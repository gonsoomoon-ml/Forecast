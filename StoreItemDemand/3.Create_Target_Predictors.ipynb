{
 "cells": [
  {
   "cell_type": "markdown",
   "metadata": {},
   "source": [
    "# [Module 3] CNN-QR, DeepAR+ 및 Prophet Predictor 생성 \n",
    "- 여기서는 세개의 Predictos 인 CNN-QR, Prophet 과 DeepAR+를 생성 (포케스팅 모델 학습) 을 하고, 실제 Predictor의 성능 지표를 통해서 얼마나 성능이 나왔는지를 학인 할 수 있습니다.\n",
    "* 이 과정은 약 60분 정도 걸립니다. **About 60 mins may be elapsed**\n",
    "\n",
    "---\n",
    "2020.08 에 출신된 CNN-QR은 아래 블로그를 참조 하세요. <br>\n",
    "Amazon Forecast can now use Convolutional Neural Networks (CNNs) to train forecasting models up to 2X faster with up to 30% higher accuracy\n",
    "- https://aws.amazon.com/blogs/machine-learning/amazon-forecast-can-now-use-convolutional-neural-networks-cnns-to-train-forecasting-models-up-to-2x-faster-with-up-to-30-higher-accuracy/"
   ]
  },
  {
   "cell_type": "code",
   "execution_count": 2,
   "metadata": {},
   "outputs": [],
   "source": [
    "import boto3\n",
    "from time import sleep\n",
    "import pandas as pd\n",
    "import json\n",
    "import time\n",
    "import pprint\n",
    "import numpy as np"
   ]
  },
  {
   "cell_type": "code",
   "execution_count": 3,
   "metadata": {},
   "outputs": [],
   "source": [
    "# Recover variables \n",
    "%store -r"
   ]
  },
  {
   "cell_type": "code",
   "execution_count": 4,
   "metadata": {},
   "outputs": [],
   "source": [
    "session = boto3.Session(region_name=region)\n",
    "forecast = session.client(service_name='forecast')"
   ]
  },
  {
   "cell_type": "markdown",
   "metadata": {},
   "source": [
    "## Parameters\n",
    "- forecastHorizon 는 31 개의 미래 데이타 포인트를 예측 합니다. ForecastFrequency 가 Day 기준이므로 미래의 31일을 예측 합니다.\n",
    "- NumberOfBacktestWindows 는 백테스트를 의미합니다. 학습 데이타의 맨 마지막에서 2번 백테스트 합니다."
   ]
  },
  {
   "cell_type": "code",
   "execution_count": 5,
   "metadata": {},
   "outputs": [],
   "source": [
    "forecastHorizon = 31 # the number of forecasting\n",
    "NumberOfBacktestWindows = 2 # the number of Backtests\n",
    "BackTestWindowOffset = 31 # the point from the end of the dataset where the data is split for model training and testing \n",
    "ForecastFrequency = \"D\""
   ]
  },
  {
   "cell_type": "markdown",
   "metadata": {},
   "source": [
    "![Fig.3.2.ForecastHorizon](img/Fig.3.2.ForecastHorizon.png)"
   ]
  },
  {
   "cell_type": "markdown",
   "metadata": {},
   "source": [
    "![BackTest](img/Fig3.1.BackTest.png)"
   ]
  },
  {
   "cell_type": "markdown",
   "metadata": {},
   "source": [
    "자세한 파라미터의 정의는 아래 링크를 클릭 해주세요.<br>\n",
    "Detailed parameter info is [here](https://docs.aws.amazon.com/forecast/latest/dg/metrics.html)"
   ]
  },
  {
   "cell_type": "markdown",
   "metadata": {},
   "source": [
    "## Predictor 생성"
   ]
  },
  {
   "cell_type": "markdown",
   "metadata": {},
   "source": [
    "#### Predictor algorithms\n",
    "- 아래 세개의 알고리즘을 사용 합니다."
   ]
  },
  {
   "cell_type": "code",
   "execution_count": 6,
   "metadata": {},
   "outputs": [],
   "source": [
    "cnnqqr_algorithmArn = 'arn:aws:forecast:::algorithm/CNN-QR'\n",
    "prophet_algorithmArn = 'arn:aws:forecast:::algorithm/Prophet'\n",
    "deepAR_Plus_algorithmArn = 'arn:aws:forecast:::algorithm/Deep_AR_Plus'"
   ]
  },
  {
   "cell_type": "markdown",
   "metadata": {},
   "source": [
    "### CNN-QR\n",
    "- CNN-QR을 학습하기 위해서 필요한 설정 파일들을 기술 합니다. \n",
    "- 시계열 데이터가 결측일 경우에 채우는 전략은 아래 링크를 참조 하세요.\n",
    "    - [FeaturizationMethod](https://docs.aws.amazon.com/forecast/latest/dg/API_FeaturizationMethod.html)\n",
    "    - 여기서는 아래와 같이 결측 설정을 하였습니다.\n",
    "    ```\n",
    "   \"FeaturizationMethodParameters\": \n",
    "    {\"frontfill\": \"none\", # 시계열 시작 지점 부터의 과거는 고려 하지 않음\n",
    "     \"middlefill\": \"nan\", # 시계열 시작과 끝 지점의 중간 데이터의 미싱은 무시하고 채우지 않음\n",
    "     \"backfill\": \"nan\"} # 시계열 끝 지점 이후의 미래는 고려 하지 않음\n",
    "    \n",
    "    ```"
   ]
  },
  {
   "cell_type": "code",
   "execution_count": 7,
   "metadata": {},
   "outputs": [],
   "source": [
    "cnnqr_predictor_name= project+'_cnnqr_' + target_suffix + suffix"
   ]
  },
  {
   "cell_type": "code",
   "execution_count": 10,
   "metadata": {},
   "outputs": [],
   "source": [
    "# Build cnnqr:\n",
    "cnnqr_create_predictor_response=forecast.create_predictor(\n",
    "      PredictorName = cnnqr_predictor_name, \n",
    "      AlgorithmArn = cnnqqr_algorithmArn,\n",
    "      ForecastHorizon= forecastHorizon,\n",
    "      PerformAutoML= False,\n",
    "      PerformHPO= False,\n",
    "      EvaluationParameters= {\"NumberOfBacktestWindows\": NumberOfBacktestWindows, \n",
    "                             \"BackTestWindowOffset\": BackTestWindowOffset}, \n",
    "      InputDataConfig= {\"DatasetGroupArn\": target_datasetGroupArn, \n",
    "                        \"SupplementaryFeatures\": [ \n",
    "                         { \n",
    "                            \"Name\": \"holiday\",\n",
    "                            \"Value\": \"US\"\n",
    "                         }\n",
    "                      ]},\n",
    "      FeaturizationConfig= {\"ForecastFrequency\": ForecastFrequency, \n",
    "                            \"ForecastDimensions\":\n",
    "                            [\"store\"],\n",
    "                            \"Featurizations\": \n",
    "                            [\n",
    "                              {\"AttributeName\": \"target_value\", \n",
    "                               \"FeaturizationPipeline\": \n",
    "                                [\n",
    "                                  {\"FeaturizationMethodName\": \"filling\", \n",
    "                                   \"FeaturizationMethodParameters\": \n",
    "                                    {\"frontfill\": \"none\", \n",
    "                                     \"middlefill\": \"nan\",\n",
    "                                     \"backfill\": \"nan\"} \n",
    "                                  }\n",
    "                                ]\n",
    "                              }\n",
    "                            ]\n",
    "                           }\n",
    ")\n",
    "                                                 "
   ]
  },
  {
   "cell_type": "markdown",
   "metadata": {},
   "source": [
    "### Prophet\n",
    "- Prophet을 학습하기 위해서 필요한 설정 파일들을 기술 합니다. "
   ]
  },
  {
   "cell_type": "code",
   "execution_count": 12,
   "metadata": {},
   "outputs": [],
   "source": [
    "# Prophet Specifics\n",
    "prophet_predictorName= project+'_prophet_algo_1' + target_suffix + suffix"
   ]
  },
  {
   "cell_type": "code",
   "execution_count": 14,
   "metadata": {},
   "outputs": [],
   "source": [
    "# Build Prophet:\n",
    "prophet_create_predictor_response=forecast.create_predictor(\n",
    "      PredictorName=prophet_predictorName, \n",
    "      AlgorithmArn=prophet_algorithmArn,\n",
    "      ForecastHorizon=forecastHorizon,\n",
    "      PerformAutoML= False,\n",
    "      PerformHPO=False,\n",
    "      EvaluationParameters= {\"NumberOfBacktestWindows\": NumberOfBacktestWindows, \n",
    "                             \"BackTestWindowOffset\": BackTestWindowOffset}, \n",
    "      InputDataConfig= {\"DatasetGroupArn\": target_datasetGroupArn, \n",
    "                        \"SupplementaryFeatures\": [ \n",
    "                         { \n",
    "                            \"Name\": \"holiday\",\n",
    "                            \"Value\": \"US\"\n",
    "                         }\n",
    "                      ]},\n",
    "      FeaturizationConfig= {\"ForecastFrequency\": ForecastFrequency, \n",
    "                            \"ForecastDimensions\":\n",
    "                            [\"store\"],\n",
    "                            \"Featurizations\": \n",
    "                            [\n",
    "                              {\"AttributeName\": \"target_value\", \n",
    "                               \"FeaturizationPipeline\": \n",
    "                                [\n",
    "                                  {\"FeaturizationMethodName\": \"filling\", \n",
    "                                   \"FeaturizationMethodParameters\": \n",
    "                                    {\"frontfill\": \"none\", \n",
    "                                     \"middlefill\": \"nan\", \n",
    "                                     \"backfill\": \"nan\"}\n",
    "                                  }\n",
    "                                ]\n",
    "                              }\n",
    "                            ]\n",
    "                           }\n",
    ")                     "
   ]
  },
  {
   "cell_type": "markdown",
   "metadata": {},
   "source": [
    "### DeepAR+"
   ]
  },
  {
   "cell_type": "code",
   "execution_count": 15,
   "metadata": {},
   "outputs": [],
   "source": [
    "# DeepAR+ Specifics\n",
    "deeparp_predictorName= project+'_deeparp_algo_1' + suffix"
   ]
  },
  {
   "cell_type": "code",
   "execution_count": 16,
   "metadata": {},
   "outputs": [],
   "source": [
    "# Build DeepAR+:\n",
    "deeparp_create_predictor_response=forecast.create_predictor(\n",
    "      PredictorName=deeparp_predictorName, \n",
    "      AlgorithmArn=deepAR_Plus_algorithmArn,\n",
    "      ForecastHorizon=forecastHorizon,\n",
    "      PerformAutoML= False,\n",
    "      PerformHPO=False,\n",
    "      EvaluationParameters= {\"NumberOfBacktestWindows\": NumberOfBacktestWindows, \n",
    "                             \"BackTestWindowOffset\": BackTestWindowOffset}, \n",
    "      InputDataConfig= {\"DatasetGroupArn\": target_datasetGroupArn, \"SupplementaryFeatures\": [ \n",
    "                         { \n",
    "                            \"Name\": \"holiday\",\n",
    "                            \"Value\": \"US\"\n",
    "                         }\n",
    "                      ]},\n",
    "      TrainingParameters = {\n",
    "                            \"likelihood\": \"negative-binomial\",\n",
    "                            \"num_averaged_models\": \"5\"\n",
    "                            },    \n",
    "      FeaturizationConfig= {\"ForecastFrequency\": ForecastFrequency, \n",
    "                            \"ForecastDimensions\":\n",
    "                            [\"store\"],\n",
    "                            \n",
    "                            \"Featurizations\": \n",
    "                            [\n",
    "                              {\"AttributeName\": \"target_value\", \n",
    "                               \"FeaturizationPipeline\": \n",
    "                                [\n",
    "                                  {\"FeaturizationMethodName\": \"filling\", \n",
    "                                   \"FeaturizationMethodParameters\": \n",
    "                                    {\"frontfill\": \"none\", \n",
    "                                     \"middlefill\": \"nan\", \n",
    "                                     \"backfill\": \"nan\"}\n",
    "                                  }\n",
    "                                ]\n",
    "                              }\n",
    "                            ]\n",
    "                           }\n",
    ")                           "
   ]
  },
  {
   "cell_type": "markdown",
   "metadata": {},
   "source": [
    "## Check if the predictors are active\n",
    "- Predictor가 실제로 생성되고 있는 상태를 확인 합니다."
   ]
  },
  {
   "cell_type": "code",
   "execution_count": 17,
   "metadata": {},
   "outputs": [],
   "source": [
    "target_cnnqr_predictorArn = cnnqr_create_predictor_response[\"PredictorArn\"]\n",
    "target_prophet_predictorArn = prophet_create_predictor_response[\"PredictorArn\"]\n",
    "target_deepar_predictorArn = deeparp_create_predictor_response[\"PredictorArn\"]"
   ]
  },
  {
   "cell_type": "markdown",
   "metadata": {},
   "source": [
    "<font color=\"red\">아래 셀의 [*] 가 숫자로 바뀔때까지 기다려 주세요.</font>\n",
    "**약 60분 걸립니다.**"
   ]
  },
  {
   "cell_type": "code",
   "execution_count": 18,
   "metadata": {},
   "outputs": [
    {
     "name": "stdout",
     "output_type": "stream",
     "text": [
      "Prophet:  CREATE_PENDING\n",
      "DeepARP:  CREATE_PENDING\n",
      "Cnnqr:  CREATE_IN_PROGRESS\n",
      "Prophet:  CREATE_IN_PROGRESS\n",
      "DeepARP:  CREATE_IN_PROGRESS\n",
      "Cnnqr:  CREATE_IN_PROGRESS\n",
      "Prophet:  CREATE_IN_PROGRESS\n",
      "DeepARP:  CREATE_IN_PROGRESS\n",
      "Cnnqr:  CREATE_IN_PROGRESS\n",
      "Prophet:  CREATE_IN_PROGRESS\n",
      "DeepARP:  CREATE_IN_PROGRESS\n",
      "Cnnqr:  CREATE_IN_PROGRESS\n",
      "Prophet:  CREATE_IN_PROGRESS\n",
      "DeepARP:  CREATE_IN_PROGRESS\n",
      "Cnnqr:  CREATE_IN_PROGRESS\n",
      "Prophet:  CREATE_IN_PROGRESS\n",
      "DeepARP:  CREATE_IN_PROGRESS\n",
      "Cnnqr:  CREATE_IN_PROGRESS\n",
      "Prophet:  CREATE_IN_PROGRESS\n",
      "DeepARP:  CREATE_IN_PROGRESS\n",
      "Cnnqr:  CREATE_IN_PROGRESS\n",
      "Prophet:  CREATE_IN_PROGRESS\n",
      "DeepARP:  CREATE_IN_PROGRESS\n",
      "Cnnqr:  CREATE_IN_PROGRESS\n",
      "Prophet:  CREATE_IN_PROGRESS\n",
      "DeepARP:  CREATE_IN_PROGRESS\n",
      "Cnnqr:  CREATE_IN_PROGRESS\n",
      "Prophet:  CREATE_IN_PROGRESS\n",
      "DeepARP:  CREATE_IN_PROGRESS\n",
      "Cnnqr:  CREATE_IN_PROGRESS\n",
      "Prophet:  CREATE_IN_PROGRESS\n",
      "DeepARP:  CREATE_IN_PROGRESS\n",
      "Cnnqr:  CREATE_IN_PROGRESS\n",
      "Prophet:  CREATE_IN_PROGRESS\n",
      "DeepARP:  CREATE_IN_PROGRESS\n",
      "Cnnqr:  CREATE_IN_PROGRESS\n",
      "Prophet:  CREATE_IN_PROGRESS\n",
      "DeepARP:  CREATE_IN_PROGRESS\n",
      "Cnnqr:  CREATE_IN_PROGRESS\n",
      "Prophet:  CREATE_IN_PROGRESS\n",
      "DeepARP:  CREATE_IN_PROGRESS\n",
      "Cnnqr:  CREATE_IN_PROGRESS\n",
      "Prophet:  CREATE_IN_PROGRESS\n",
      "DeepARP:  CREATE_IN_PROGRESS\n",
      "Cnnqr:  CREATE_IN_PROGRESS\n",
      "Prophet:  CREATE_IN_PROGRESS\n",
      "DeepARP:  CREATE_IN_PROGRESS\n",
      "Cnnqr:  CREATE_IN_PROGRESS\n",
      "Prophet:  CREATE_IN_PROGRESS\n",
      "DeepARP:  CREATE_IN_PROGRESS\n",
      "Cnnqr:  CREATE_IN_PROGRESS\n",
      "Prophet:  CREATE_IN_PROGRESS\n",
      "DeepARP:  CREATE_IN_PROGRESS\n",
      "Cnnqr:  CREATE_IN_PROGRESS\n",
      "Prophet:  CREATE_IN_PROGRESS\n",
      "DeepARP:  CREATE_IN_PROGRESS\n",
      "Cnnqr:  CREATE_IN_PROGRESS\n",
      "Prophet:  CREATE_IN_PROGRESS\n",
      "DeepARP:  CREATE_IN_PROGRESS\n",
      "Cnnqr:  CREATE_IN_PROGRESS\n",
      "Prophet:  CREATE_IN_PROGRESS\n",
      "DeepARP:  CREATE_IN_PROGRESS\n",
      "Cnnqr:  CREATE_IN_PROGRESS\n",
      "Prophet:  CREATE_IN_PROGRESS\n",
      "DeepARP:  CREATE_IN_PROGRESS\n",
      "Cnnqr:  CREATE_IN_PROGRESS\n",
      "Prophet:  CREATE_IN_PROGRESS\n",
      "DeepARP:  CREATE_IN_PROGRESS\n",
      "Cnnqr:  CREATE_IN_PROGRESS\n",
      "Prophet:  CREATE_IN_PROGRESS\n",
      "DeepARP:  CREATE_IN_PROGRESS\n",
      "Cnnqr:  CREATE_IN_PROGRESS\n",
      "Prophet:  ACTIVE\n",
      "DeepARP:  CREATE_IN_PROGRESS\n",
      "Cnnqr:  CREATE_IN_PROGRESS\n",
      "Prophet:  ACTIVE\n",
      "DeepARP:  CREATE_IN_PROGRESS\n",
      "Cnnqr:  CREATE_IN_PROGRESS\n",
      "Prophet:  ACTIVE\n",
      "DeepARP:  CREATE_IN_PROGRESS\n",
      "Cnnqr:  CREATE_IN_PROGRESS\n",
      "Prophet:  ACTIVE\n",
      "DeepARP:  CREATE_IN_PROGRESS\n",
      "Cnnqr:  CREATE_IN_PROGRESS\n",
      "Prophet:  ACTIVE\n",
      "DeepARP:  CREATE_IN_PROGRESS\n",
      "Cnnqr:  CREATE_IN_PROGRESS\n",
      "Prophet:  ACTIVE\n",
      "DeepARP:  CREATE_IN_PROGRESS\n",
      "Cnnqr:  CREATE_IN_PROGRESS\n",
      "Prophet:  ACTIVE\n",
      "DeepARP:  CREATE_IN_PROGRESS\n",
      "Cnnqr:  CREATE_IN_PROGRESS\n",
      "Prophet:  ACTIVE\n",
      "DeepARP:  CREATE_IN_PROGRESS\n",
      "Cnnqr:  CREATE_IN_PROGRESS\n",
      "Prophet:  ACTIVE\n",
      "DeepARP:  CREATE_IN_PROGRESS\n",
      "Cnnqr:  CREATE_IN_PROGRESS\n",
      "Prophet:  ACTIVE\n",
      "DeepARP:  CREATE_IN_PROGRESS\n",
      "Cnnqr:  CREATE_IN_PROGRESS\n",
      "Prophet:  ACTIVE\n",
      "DeepARP:  CREATE_IN_PROGRESS\n",
      "Cnnqr:  CREATE_IN_PROGRESS\n",
      "Prophet:  ACTIVE\n",
      "DeepARP:  CREATE_IN_PROGRESS\n",
      "Cnnqr:  CREATE_IN_PROGRESS\n",
      "Prophet:  ACTIVE\n",
      "DeepARP:  CREATE_IN_PROGRESS\n",
      "Cnnqr:  CREATE_IN_PROGRESS\n",
      "Prophet:  ACTIVE\n",
      "DeepARP:  CREATE_IN_PROGRESS\n",
      "Cnnqr:  CREATE_IN_PROGRESS\n",
      "Prophet:  ACTIVE\n",
      "DeepARP:  CREATE_IN_PROGRESS\n",
      "Cnnqr:  CREATE_IN_PROGRESS\n",
      "Prophet:  ACTIVE\n",
      "DeepARP:  ACTIVE\n",
      "Cnnqr:  CREATE_IN_PROGRESS\n",
      "Prophet:  ACTIVE\n",
      "DeepARP:  ACTIVE\n",
      "Cnnqr:  CREATE_IN_PROGRESS\n",
      "Prophet:  ACTIVE\n",
      "DeepARP:  ACTIVE\n",
      "Cnnqr:  CREATE_IN_PROGRESS\n",
      "Prophet:  ACTIVE\n",
      "DeepARP:  ACTIVE\n",
      "Cnnqr:  CREATE_IN_PROGRESS\n",
      "Prophet:  ACTIVE\n",
      "DeepARP:  ACTIVE\n",
      "Cnnqr:  CREATE_IN_PROGRESS\n",
      "Prophet:  ACTIVE\n",
      "DeepARP:  ACTIVE\n",
      "Cnnqr:  CREATE_IN_PROGRESS\n",
      "Prophet:  ACTIVE\n",
      "DeepARP:  ACTIVE\n",
      "Cnnqr:  ACTIVE\n",
      "CPU times: user 414 ms, sys: 29.9 ms, total: 444 ms\n",
      "Wall time: 45min 10s\n"
     ]
    }
   ],
   "source": [
    "%%time\n",
    "# Check the Prophet status\n",
    "\n",
    "while True:\n",
    "    createProphetPredictorStatus = forecast.describe_predictor(PredictorArn= target_prophet_predictorArn)['Status']\n",
    "    createDeeparpPredictorStatus = forecast.describe_predictor(PredictorArn= target_deepar_predictorArn)['Status']    \n",
    "    createCnnqrPredictorStatus = forecast.describe_predictor(PredictorArn= target_cnnqr_predictorArn)['Status']        \n",
    "    print(\"Prophet: \", createProphetPredictorStatus)\n",
    "    print(\"DeepARP: \", createDeeparpPredictorStatus)\n",
    "    print(\"Cnnqr: \", createCnnqrPredictorStatus)    \n",
    "    if createProphetPredictorStatus != 'ACTIVE' and createProphetPredictorStatus != 'CREATE_FAILED':\n",
    "        sleep(60)\n",
    "    elif createDeeparpPredictorStatus != 'ACTIVE' and createDeeparpPredictorStatus != 'CREATE_FAILED':\n",
    "        sleep(60)\n",
    "    elif createCnnqrPredictorStatus != 'ACTIVE' and createCnnqrPredictorStatus != 'CREATE_FAILED':\n",
    "        sleep(60)        \n",
    "    else:\n",
    "        break"
   ]
  },
  {
   "cell_type": "markdown",
   "metadata": {},
   "source": [
    "## Predictor evaluation\n",
    "-아래 화면은 Forecast Console --> Dataset Group 선택 --> Predictors 선택을 하시면 조금 더 쉽게 볼 수 있습니다. \n",
    "![PredictorMetric](img/Fig.3.2.PredictorMetric.png)"
   ]
  },
  {
   "cell_type": "markdown",
   "metadata": {},
   "source": [
    "#### CNN-QR"
   ]
  },
  {
   "cell_type": "code",
   "execution_count": 19,
   "metadata": {},
   "outputs": [
    {
     "name": "stdout",
     "output_type": "stream",
     "text": [
      "{'PredictorEvaluationResults': [{'AlgorithmArn': 'arn:aws:forecast:::algorithm/CNN-QR',\n",
      "                                 'TestWindows': [{'EvaluationType': 'SUMMARY',\n",
      "                                                  'Metrics': {'RMSE': 9.916570754369154,\n",
      "                                                              'WeightedQuantileLosses': [{'LossValue': 0.06506357591989097,\n",
      "                                                                                          'Quantile': 0.9},\n",
      "                                                                                         {'LossValue': 0.12748531583719175,\n",
      "                                                                                          'Quantile': 0.5},\n",
      "                                                                                         {'LossValue': 0.05111708176177882,\n",
      "                                                                                          'Quantile': 0.1}]}},\n",
      "                                                 {'EvaluationType': 'COMPUTED',\n",
      "                                                  'ItemCount': 500,\n",
      "                                                  'Metrics': {'RMSE': 8.19893024033616,\n",
      "                                                              'WeightedQuantileLosses': [{'LossValue': 0.04966687028188542,\n",
      "                                                                                          'Quantile': 0.9},\n",
      "                                                                                         {'LossValue': 0.11050687773862508,\n",
      "                                                                                          'Quantile': 0.5},\n",
      "                                                                                         {'LossValue': 0.04723388209482956,\n",
      "                                                                                          'Quantile': 0.1}]},\n",
      "                                                  'TestWindowEnd': datetime.datetime(2017, 10, 31, 0, 0, tzinfo=tzlocal()),\n",
      "                                                  'TestWindowStart': datetime.datetime(2017, 9, 30, 0, 0, tzinfo=tzlocal())},\n",
      "                                                 {'EvaluationType': 'COMPUTED',\n",
      "                                                  'ItemCount': 500,\n",
      "                                                  'Metrics': {'RMSE': 11.634211268402144,\n",
      "                                                              'WeightedQuantileLosses': [{'LossValue': 0.08046028155789663,\n",
      "                                                                                          'Quantile': 0.9},\n",
      "                                                                                         {'LossValue': 0.14446375393575842,\n",
      "                                                                                          'Quantile': 0.5},\n",
      "                                                                                         {'LossValue': 0.055000281428728114,\n",
      "                                                                                          'Quantile': 0.1}]},\n",
      "                                                  'TestWindowEnd': datetime.datetime(2017, 12, 1, 0, 0, tzinfo=tzlocal()),\n",
      "                                                  'TestWindowStart': datetime.datetime(2017, 10, 31, 0, 0, tzinfo=tzlocal())}]}],\n",
      " 'ResponseMetadata': {'HTTPHeaders': {'connection': 'keep-alive',\n",
      "                                      'content-length': '972',\n",
      "                                      'content-type': 'application/x-amz-json-1.1',\n",
      "                                      'date': 'Sat, 22 Aug 2020 15:54:03 GMT',\n",
      "                                      'x-amzn-requestid': 'd3d80e62-7dad-4ffc-8769-0332091d8f22'},\n",
      "                      'HTTPStatusCode': 200,\n",
      "                      'RequestId': 'd3d80e62-7dad-4ffc-8769-0332091d8f22',\n",
      "                      'RetryAttempts': 0}}\n"
     ]
    }
   ],
   "source": [
    "cnnqr_metrics = forecast.get_accuracy_metrics(PredictorArn=target_cnnqr_predictorArn)\n",
    "pp = pprint.PrettyPrinter()\n",
    "pp.pprint(cnnqr_metrics)"
   ]
  },
  {
   "cell_type": "markdown",
   "metadata": {},
   "source": [
    "#### Prophet"
   ]
  },
  {
   "cell_type": "code",
   "execution_count": 20,
   "metadata": {},
   "outputs": [
    {
     "name": "stdout",
     "output_type": "stream",
     "text": [
      "{'PredictorEvaluationResults': [{'AlgorithmArn': 'arn:aws:forecast:::algorithm/Prophet',\n",
      "                                 'TestWindows': [{'EvaluationType': 'SUMMARY',\n",
      "                                                  'Metrics': {'RMSE': 8.507449156522501,\n",
      "                                                              'WeightedQuantileLosses': [{'LossValue': 0.051280372916466574,\n",
      "                                                                                          'Quantile': 0.9},\n",
      "                                                                                         {'LossValue': 0.10972941054792003,\n",
      "                                                                                          'Quantile': 0.5},\n",
      "                                                                                         {'LossValue': 0.04660276759016778,\n",
      "                                                                                          'Quantile': 0.1}]}},\n",
      "                                                 {'EvaluationType': 'COMPUTED',\n",
      "                                                  'ItemCount': 500,\n",
      "                                                  'Metrics': {'RMSE': 8.078687241719402,\n",
      "                                                              'WeightedQuantileLosses': [{'LossValue': 0.04889276932914627,\n",
      "                                                                                          'Quantile': 0.9},\n",
      "                                                                                         {'LossValue': 0.10792852900657492,\n",
      "                                                                                          'Quantile': 0.5},\n",
      "                                                                                         {'LossValue': 0.04656586808041827,\n",
      "                                                                                          'Quantile': 0.1}]},\n",
      "                                                  'TestWindowEnd': datetime.datetime(2017, 10, 31, 0, 0, tzinfo=tzlocal()),\n",
      "                                                  'TestWindowStart': datetime.datetime(2017, 9, 30, 0, 0, tzinfo=tzlocal())},\n",
      "                                                 {'EvaluationType': 'COMPUTED',\n",
      "                                                  'ItemCount': 500,\n",
      "                                                  'Metrics': {'RMSE': 8.936211071325596,\n",
      "                                                              'WeightedQuantileLosses': [{'LossValue': 0.05366797650378687,\n",
      "                                                                                          'Quantile': 0.9},\n",
      "                                                                                         {'LossValue': 0.11153029208926514,\n",
      "                                                                                          'Quantile': 0.5},\n",
      "                                                                                         {'LossValue': 0.04663966709991726,\n",
      "                                                                                          'Quantile': 0.1}]},\n",
      "                                                  'TestWindowEnd': datetime.datetime(2017, 12, 1, 0, 0, tzinfo=tzlocal()),\n",
      "                                                  'TestWindowStart': datetime.datetime(2017, 10, 31, 0, 0, tzinfo=tzlocal())}]}],\n",
      " 'ResponseMetadata': {'HTTPHeaders': {'connection': 'keep-alive',\n",
      "                                      'content-length': '973',\n",
      "                                      'content-type': 'application/x-amz-json-1.1',\n",
      "                                      'date': 'Sat, 22 Aug 2020 15:54:04 GMT',\n",
      "                                      'x-amzn-requestid': 'e2bf7b34-d536-46aa-8121-c20b37602f26'},\n",
      "                      'HTTPStatusCode': 200,\n",
      "                      'RequestId': 'e2bf7b34-d536-46aa-8121-c20b37602f26',\n",
      "                      'RetryAttempts': 0}}\n"
     ]
    }
   ],
   "source": [
    "# Prophet Metrics\n",
    "# prophet_arn = prophet_create_predictor_response['PredictorArn']\n",
    "prophet_metrics = forecast.get_accuracy_metrics(PredictorArn=target_prophet_predictorArn)\n",
    "pp = pprint.PrettyPrinter()\n",
    "pp.pprint(prophet_metrics)"
   ]
  },
  {
   "cell_type": "markdown",
   "metadata": {},
   "source": [
    "#### DeepAR+"
   ]
  },
  {
   "cell_type": "code",
   "execution_count": 21,
   "metadata": {},
   "outputs": [
    {
     "name": "stdout",
     "output_type": "stream",
     "text": [
      "{'PredictorEvaluationResults': [{'AlgorithmArn': 'arn:aws:forecast:::algorithm/Deep_AR_Plus',\n",
      "                                 'TestWindows': [{'EvaluationType': 'SUMMARY',\n",
      "                                                  'Metrics': {'RMSE': 10.195393881125298,\n",
      "                                                              'WeightedQuantileLosses': [{'LossValue': 0.0619224906192548,\n",
      "                                                                                          'Quantile': 0.9},\n",
      "                                                                                         {'LossValue': 0.13128978163976018,\n",
      "                                                                                          'Quantile': 0.5},\n",
      "                                                                                         {'LossValue': 0.05450154571469425,\n",
      "                                                                                          'Quantile': 0.1}]}},\n",
      "                                                 {'EvaluationType': 'COMPUTED',\n",
      "                                                  'ItemCount': 500,\n",
      "                                                  'Metrics': {'RMSE': 10.288763053024903,\n",
      "                                                              'WeightedQuantileLosses': [{'LossValue': 0.060855967267714535,\n",
      "                                                                                          'Quantile': 0.9},\n",
      "                                                                                         {'LossValue': 0.12554388954423704,\n",
      "                                                                                          'Quantile': 0.5},\n",
      "                                                                                         {'LossValue': 0.051245202206017096,\n",
      "                                                                                          'Quantile': 0.1}]},\n",
      "                                                  'TestWindowEnd': datetime.datetime(2017, 12, 1, 0, 0, tzinfo=tzlocal()),\n",
      "                                                  'TestWindowStart': datetime.datetime(2017, 10, 31, 0, 0, tzinfo=tzlocal())},\n",
      "                                                 {'EvaluationType': 'COMPUTED',\n",
      "                                                  'ItemCount': 500,\n",
      "                                                  'Metrics': {'RMSE': 10.102024709225695,\n",
      "                                                              'WeightedQuantileLosses': [{'LossValue': 0.06298901397079511,\n",
      "                                                                                          'Quantile': 0.9},\n",
      "                                                                                         {'LossValue': 0.1370356737352833,\n",
      "                                                                                          'Quantile': 0.5},\n",
      "                                                                                         {'LossValue': 0.05775788922337144,\n",
      "                                                                                          'Quantile': 0.1}]},\n",
      "                                                  'TestWindowEnd': datetime.datetime(2017, 10, 31, 0, 0, tzinfo=tzlocal()),\n",
      "                                                  'TestWindowStart': datetime.datetime(2017, 9, 30, 0, 0, tzinfo=tzlocal())}]}],\n",
      " 'ResponseMetadata': {'HTTPHeaders': {'connection': 'keep-alive',\n",
      "                                      'content-length': '980',\n",
      "                                      'content-type': 'application/x-amz-json-1.1',\n",
      "                                      'date': 'Sat, 22 Aug 2020 15:54:04 GMT',\n",
      "                                      'x-amzn-requestid': 'bf50639a-80f3-493f-8d5f-0fdd6eb5dd96'},\n",
      "                      'HTTPStatusCode': 200,\n",
      "                      'RequestId': 'bf50639a-80f3-493f-8d5f-0fdd6eb5dd96',\n",
      "                      'RetryAttempts': 0}}\n"
     ]
    }
   ],
   "source": [
    "# DeepAR+ Metrics\n",
    "# deepar_predictor_arn = deeparp_create_predictor_response['PredictorArn']\n",
    "deeparp_metrics = forecast.get_accuracy_metrics(PredictorArn=target_deepar_predictorArn)\n",
    "pp = pprint.PrettyPrinter()\n",
    "pp.pprint(deeparp_metrics)"
   ]
  },
  {
   "cell_type": "code",
   "execution_count": 22,
   "metadata": {},
   "outputs": [
    {
     "name": "stdout",
     "output_type": "stream",
     "text": [
      "Stored 'target_prophet_predictorArn' (str)\n",
      "Stored 'target_deepar_predictorArn' (str)\n",
      "Stored 'target_cnnqr_predictorArn' (str)\n"
     ]
    }
   ],
   "source": [
    "%store target_prophet_predictorArn\n",
    "%store target_deepar_predictorArn\n",
    "%store target_cnnqr_predictorArn"
   ]
  },
  {
   "cell_type": "code",
   "execution_count": null,
   "metadata": {},
   "outputs": [],
   "source": []
  },
  {
   "cell_type": "code",
   "execution_count": null,
   "metadata": {},
   "outputs": [],
   "source": []
  },
  {
   "cell_type": "code",
   "execution_count": null,
   "metadata": {},
   "outputs": [],
   "source": []
  }
 ],
 "metadata": {
  "kernelspec": {
   "display_name": "conda_python3",
   "language": "python",
   "name": "conda_python3"
  },
  "language_info": {
   "codemirror_mode": {
    "name": "ipython",
    "version": 3
   },
   "file_extension": ".py",
   "mimetype": "text/x-python",
   "name": "python",
   "nbconvert_exporter": "python",
   "pygments_lexer": "ipython3",
   "version": "3.6.10"
  }
 },
 "nbformat": 4,
 "nbformat_minor": 4
}

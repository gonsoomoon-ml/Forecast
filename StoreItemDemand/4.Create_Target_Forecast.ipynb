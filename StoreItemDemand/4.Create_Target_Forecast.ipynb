{
 "cells": [
  {
   "cell_type": "markdown",
   "metadata": {},
   "source": [
    "# [Module 4] CNN-QR, Prophet 및 DeepAR+ Forecast 생성 (Create a Target Forecast)\n",
    "\n",
    "이전 모듈에서 생성한 Predictor를 가지고 CNN-QR, Prophet 및 DeepAR+ Forecast 생성을 합니다. <br>\n",
    "Foreast의 의미는 실질적으로 전체 학습을 다시하고 서비스를 할 수 있는 준비를 하는 과정 입니다. <br>\n",
    "Forecast의 생성 이후에 실제 미래의 예측(Inference)을 일괄적으로 하여 S3에 저장을 합니다.\n",
    "\n",
    "---\n",
    "이 과정은 약 60분 소요 되니다. (About 60 mins may be elapsed)"
   ]
  },
  {
   "cell_type": "code",
   "execution_count": 4,
   "metadata": {},
   "outputs": [],
   "source": [
    "import boto3\n",
    "from time import sleep\n",
    "import pandas as pd\n",
    "import json\n",
    "import time\n",
    "import pprint\n",
    "import numpy as np"
   ]
  },
  {
   "cell_type": "code",
   "execution_count": 5,
   "metadata": {},
   "outputs": [],
   "source": [
    "# Recover variables stored by other notebooks\n",
    "%store -r"
   ]
  },
  {
   "cell_type": "code",
   "execution_count": 6,
   "metadata": {},
   "outputs": [],
   "source": [
    "session = boto3.Session(region_name=region)\n",
    "forecast = session.client(service_name='forecast')"
   ]
  },
  {
   "cell_type": "markdown",
   "metadata": {},
   "source": [
    "## Create CNN-QR, Prophet and DeepAR+ Forecast\n",
    "\n",
    "여기서는 3개의 Forecast를 생성 합니다."
   ]
  },
  {
   "cell_type": "markdown",
   "metadata": {},
   "source": [
    "#### CNN-QR Forecast"
   ]
  },
  {
   "cell_type": "code",
   "execution_count": 4,
   "metadata": {},
   "outputs": [],
   "source": [
    "# CNN-QR\n",
    "cnnqr_forecastName = project+'_cnnqr_forecast' + target_suffix + suffix\n",
    "cnnqr_create_forecast_response=forecast.create_forecast(\n",
    "    ForecastName= cnnqr_forecastName,\n",
    "    PredictorArn= target_cnnqr_predictorArn)\n",
    "target_cnnqr_forecast_arn = cnnqr_create_forecast_response['ForecastArn']"
   ]
  },
  {
   "cell_type": "code",
   "execution_count": 5,
   "metadata": {},
   "outputs": [
    {
     "data": {
      "text/plain": [
       "{'ForecastArn': 'arn:aws:forecast:ap-northeast-2:057716757052:forecast/StoreItemDemand_cnnqr_forecast_target57070',\n",
       " 'ForecastName': 'StoreItemDemand_cnnqr_forecast_target57070',\n",
       " 'ForecastTypes': ['0.1', '0.5', '0.9'],\n",
       " 'PredictorArn': 'arn:aws:forecast:ap-northeast-2:057716757052:predictor/StoreItemDemand_cnnqr__target57070',\n",
       " 'DatasetGroupArn': 'arn:aws:forecast:ap-northeast-2:057716757052:dataset-group/StoreItemDemandDatasetGroup57070',\n",
       " 'Status': 'CREATE_PENDING',\n",
       " 'CreationTime': datetime.datetime(2020, 8, 23, 1, 14, 22, 57000, tzinfo=tzlocal()),\n",
       " 'LastModificationTime': datetime.datetime(2020, 8, 23, 1, 14, 22, 57000, tzinfo=tzlocal()),\n",
       " 'ResponseMetadata': {'RequestId': '61e185d8-29be-4e1f-b428-803b3dded8dd',\n",
       "  'HTTPStatusCode': 200,\n",
       "  'HTTPHeaders': {'content-type': 'application/x-amz-json-1.1',\n",
       "   'date': 'Sun, 23 Aug 2020 01:14:21 GMT',\n",
       "   'x-amzn-requestid': '61e185d8-29be-4e1f-b428-803b3dded8dd',\n",
       "   'content-length': '527',\n",
       "   'connection': 'keep-alive'},\n",
       "  'RetryAttempts': 0}}"
      ]
     },
     "execution_count": 5,
     "metadata": {},
     "output_type": "execute_result"
    }
   ],
   "source": [
    "forecast.describe_forecast(ForecastArn = target_cnnqr_forecast_arn)"
   ]
  },
  {
   "cell_type": "markdown",
   "metadata": {},
   "source": [
    "#### Prophet Forecast"
   ]
  },
  {
   "cell_type": "code",
   "execution_count": 6,
   "metadata": {},
   "outputs": [],
   "source": [
    "# Prophet\n",
    "prophet_forecastName = project+'_prophet_algo_forecast' + target_suffix + suffix\n",
    "prophet_create_forecast_response=forecast.create_forecast(\n",
    "    ForecastName=prophet_forecastName,\n",
    "    PredictorArn=target_prophet_predictorArn)\n",
    "target_prophet_forecast_arn = prophet_create_forecast_response['ForecastArn']"
   ]
  },
  {
   "cell_type": "code",
   "execution_count": 7,
   "metadata": {},
   "outputs": [
    {
     "data": {
      "text/plain": [
       "{'ForecastArn': 'arn:aws:forecast:ap-northeast-2:057716757052:forecast/StoreItemDemand_prophet_algo_forecast_target57070',\n",
       " 'ForecastName': 'StoreItemDemand_prophet_algo_forecast_target57070',\n",
       " 'ForecastTypes': ['0.1', '0.5', '0.9'],\n",
       " 'PredictorArn': 'arn:aws:forecast:ap-northeast-2:057716757052:predictor/StoreItemDemand_prophet_algo_1_target57070',\n",
       " 'DatasetGroupArn': 'arn:aws:forecast:ap-northeast-2:057716757052:dataset-group/StoreItemDemandDatasetGroup57070',\n",
       " 'Status': 'CREATE_PENDING',\n",
       " 'CreationTime': datetime.datetime(2020, 8, 23, 1, 14, 22, 274000, tzinfo=tzlocal()),\n",
       " 'LastModificationTime': datetime.datetime(2020, 8, 23, 1, 14, 22, 274000, tzinfo=tzlocal()),\n",
       " 'ResponseMetadata': {'RequestId': 'fbde91bc-e28d-42ac-ac11-171375fc726d',\n",
       "  'HTTPStatusCode': 200,\n",
       "  'HTTPHeaders': {'content-type': 'application/x-amz-json-1.1',\n",
       "   'date': 'Sun, 23 Aug 2020 01:14:22 GMT',\n",
       "   'x-amzn-requestid': 'fbde91bc-e28d-42ac-ac11-171375fc726d',\n",
       "   'content-length': '549',\n",
       "   'connection': 'keep-alive'},\n",
       "  'RetryAttempts': 0}}"
      ]
     },
     "execution_count": 7,
     "metadata": {},
     "output_type": "execute_result"
    }
   ],
   "source": [
    "forecast.describe_forecast(ForecastArn = target_prophet_forecast_arn)"
   ]
  },
  {
   "cell_type": "markdown",
   "metadata": {},
   "source": [
    "#### DeepARP Forecast"
   ]
  },
  {
   "cell_type": "code",
   "execution_count": 8,
   "metadata": {},
   "outputs": [],
   "source": [
    "# DeepAR+\n",
    "deeparp_forecastName = project+'_deeparp_algo_forecast' + target_suffix + suffix\n",
    "deeparp_create_forecast_response=forecast.create_forecast(\n",
    "    ForecastName=deeparp_forecastName,\n",
    "    PredictorArn=target_deepar_predictorArn)\n",
    "target_deeparp_forecast_arn = deeparp_create_forecast_response['ForecastArn']"
   ]
  },
  {
   "cell_type": "code",
   "execution_count": 9,
   "metadata": {},
   "outputs": [
    {
     "data": {
      "text/plain": [
       "{'ForecastArn': 'arn:aws:forecast:ap-northeast-2:057716757052:forecast/StoreItemDemand_deeparp_algo_forecast_target57070',\n",
       " 'ForecastName': 'StoreItemDemand_deeparp_algo_forecast_target57070',\n",
       " 'ForecastTypes': ['0.1', '0.5', '0.9'],\n",
       " 'PredictorArn': 'arn:aws:forecast:ap-northeast-2:057716757052:predictor/StoreItemDemand_deeparp_algo_157070',\n",
       " 'DatasetGroupArn': 'arn:aws:forecast:ap-northeast-2:057716757052:dataset-group/StoreItemDemandDatasetGroup57070',\n",
       " 'Status': 'CREATE_PENDING',\n",
       " 'CreationTime': datetime.datetime(2020, 8, 23, 1, 14, 22, 481000, tzinfo=tzlocal()),\n",
       " 'LastModificationTime': datetime.datetime(2020, 8, 23, 1, 14, 22, 481000, tzinfo=tzlocal()),\n",
       " 'ResponseMetadata': {'RequestId': '12ab6641-8c5f-46a4-9114-b7ee8994241f',\n",
       "  'HTTPStatusCode': 200,\n",
       "  'HTTPHeaders': {'content-type': 'application/x-amz-json-1.1',\n",
       "   'date': 'Sun, 23 Aug 2020 01:14:22 GMT',\n",
       "   'x-amzn-requestid': '12ab6641-8c5f-46a4-9114-b7ee8994241f',\n",
       "   'content-length': '542',\n",
       "   'connection': 'keep-alive'},\n",
       "  'RetryAttempts': 0}}"
      ]
     },
     "execution_count": 9,
     "metadata": {},
     "output_type": "execute_result"
    }
   ],
   "source": [
    "forecast.describe_forecast(ForecastArn = target_deeparp_forecast_arn)"
   ]
  },
  {
   "cell_type": "markdown",
   "metadata": {},
   "source": [
    "3개의 Forecast가 완료 될때까지 계속 체크합니다.\n",
    "**네트워크 연결이 불안정하여 노트북 세션이 중단되면, 아래 처럼 Forecast의 Job 실행을 Forecast 콘솔에 가서 확인 하세요. 완료된 후에 아래의 Upload forecast results to S3 부분부터 다시 실행 해주세요**\n",
    "![Fig.4.1.Console-Forecast-Status](img/Fig.4.1.Console-Forecast-Status.png)"
   ]
  },
  {
   "cell_type": "code",
   "execution_count": 2,
   "metadata": {},
   "outputs": [
    {
     "ename": "NameError",
     "evalue": "name 'forecast' is not defined",
     "output_type": "error",
     "traceback": [
      "\u001b[0;31m---------------------------------------------------------------------------\u001b[0m",
      "\u001b[0;31mNameError\u001b[0m                                 Traceback (most recent call last)",
      "\u001b[0;32m<timed exec>\u001b[0m in \u001b[0;36m<module>\u001b[0;34m\u001b[0m\n",
      "\u001b[0;31mNameError\u001b[0m: name 'forecast' is not defined"
     ]
    }
   ],
   "source": [
    "%%time\n",
    "\n",
    "while True:\n",
    "    createCnnqrStatus = forecast.describe_forecast(ForecastArn= target_cnnqr_forecast_arn)['Status']    \n",
    "    createProphetStatus = forecast.describe_forecast(ForecastArn= target_prophet_forecast_arn)['Status']\n",
    "    createDeeparpStatus = forecast.describe_forecast(ForecastArn= target_deeparp_forecast_arn)['Status']    \n",
    "    print(\"Cnnqr: \", createCnnqrStatus)    \n",
    "    print(\"Prophet: \", createProphetStatus)\n",
    "    print(\"DeepARP: \", createProphetStatus)          \n",
    "    if createProphetStatus != 'ACTIVE' and createProphetStatus != 'CREATE_FAILED':\n",
    "        sleep(60)\n",
    "    elif createDeeparpStatus != 'ACTIVE' and createDeeparpStatus != 'CREATE_FAILED':\n",
    "        sleep(60)\n",
    "    elif createCnnqrStatus != 'ACTIVE' and createCnnqrStatus != 'CREATE_FAILED':\n",
    "        sleep(60)        \n",
    "    else:\n",
    "        break"
   ]
  },
  {
   "cell_type": "markdown",
   "metadata": {},
   "source": [
    "## Upload forecast results to S3\n",
    "Forecast를 가지고 일괄적으로 예측 작업을 하여 결과를 S3에 저장 합니다.<br>\n",
    "이 작업은 Predictor를 만들시에 ForecastHorizon의 파라미터의 값 만큼, 미리 예측을 하여 S3에 저장하는 작업을 합니다."
   ]
  },
  {
   "cell_type": "markdown",
   "metadata": {},
   "source": [
    "#### CNN-QR Export"
   ]
  },
  {
   "cell_type": "code",
   "execution_count": null,
   "metadata": {},
   "outputs": [],
   "source": [
    "# 만일 세션이 끊기어서 아래의 Forecast arn을 가져오지 못할 경우에는 \n",
    "# 포케스트 콘솔에 가셔서 직접 복사하여 아래와 같이 넣은 다음에 사용 하세요.\n",
    "# target_cnnqr_forecast_arn = 'arn:aws:forecast:ap-northeast-2:057716757052:forecast/StoreItemDemand_cnnqr_forecast_target57070'\n",
    "# target_prophet_forecast_arn = 'arn:aws:forecast:ap-northeast-2:057716757052:forecast/StoreItemDemand_prophet_algo_forecast_target57070'\n",
    "# target_deeparp_forecast_arn = 'arn:aws:forecast:ap-northeast-2:057716757052:forecast/StoreItemDemand_deeparp_algo_forecast_target57070'\n"
   ]
  },
  {
   "cell_type": "code",
   "execution_count": 9,
   "metadata": {},
   "outputs": [],
   "source": [
    "target_cnnqr_path = \"s3://\" + bucket_name + \"/\" + bucket_folder + \"/cnnqr_\" + target_suffix + suffix + \"/\" \n",
    "target_cnnqr_job_name = \"CnnqrExport1\" + target_suffix + suffix\n",
    "create_forecast_export_job_cnnqr_response = forecast.create_forecast_export_job(\n",
    "    ForecastExportJobName = target_cnnqr_job_name,\n",
    "    ForecastArn = target_cnnqr_forecast_arn,\n",
    "    Destination={\n",
    "        \"S3Config\" : {\n",
    "            \"Path\": target_cnnqr_path,\n",
    "            \"RoleArn\": role_arn\n",
    "        }\n",
    "    })\n"
   ]
  },
  {
   "cell_type": "code",
   "execution_count": 17,
   "metadata": {},
   "outputs": [
    {
     "data": {
      "text/plain": [
       "{'ForecastExportJobArn': 'arn:aws:forecast:ap-northeast-2:057716757052:forecast-export-job/StoreItemDemand_cnnqr_forecast_target57070/CnnqrExport1_target57070',\n",
       " 'ForecastExportJobName': 'CnnqrExport1_target57070',\n",
       " 'ForecastArn': 'arn:aws:forecast:ap-northeast-2:057716757052:forecast/StoreItemDemand_cnnqr_forecast_target57070',\n",
       " 'Destination': {'S3Config': {'Path': 's3://sagemaker-ap-northeast-2-057716757052/StoreItemDemand/cnnqr__target57070',\n",
       "   'RoleArn': 'arn:aws:iam::057716757052:role/ForecastRolePOC57070'}},\n",
       " 'Status': 'ACTIVE',\n",
       " 'CreationTime': datetime.datetime(2020, 8, 23, 2, 8, 38, 977000, tzinfo=tzlocal()),\n",
       " 'LastModificationTime': datetime.datetime(2020, 8, 23, 2, 10, 14, 258000, tzinfo=tzlocal()),\n",
       " 'ResponseMetadata': {'RequestId': 'c9751098-c0d2-4c0d-be37-acf9a813181c',\n",
       "  'HTTPStatusCode': 200,\n",
       "  'HTTPHeaders': {'content-type': 'application/x-amz-json-1.1',\n",
       "   'date': 'Sun, 23 Aug 2020 02:10:25 GMT',\n",
       "   'x-amzn-requestid': 'c9751098-c0d2-4c0d-be37-acf9a813181c',\n",
       "   'content-length': '593',\n",
       "   'connection': 'keep-alive'},\n",
       "  'RetryAttempts': 0}}"
      ]
     },
     "execution_count": 17,
     "metadata": {},
     "output_type": "execute_result"
    }
   ],
   "source": [
    "TargetForecastCnnqrtExportJobArn = create_forecast_export_job_cnnqr_response[\"ForecastExportJobArn\"]\n",
    "forecast.describe_forecast_export_job(ForecastExportJobArn = TargetForecastCnnqrtExportJobArn)"
   ]
  },
  {
   "cell_type": "markdown",
   "metadata": {},
   "source": [
    "#### Prophet Export"
   ]
  },
  {
   "cell_type": "code",
   "execution_count": 11,
   "metadata": {},
   "outputs": [],
   "source": [
    "target_prophet_path = \"s3://\" + bucket_name + \"/\" + bucket_folder + \"/prophet_\" + target_suffix + suffix + \"/\" \n",
    "target_prophet_job_name = \"ProphetExport1\" + target_suffix + suffix\n",
    "create_forecast_export_job_prophet_response = forecast.create_forecast_export_job(\n",
    "    ForecastExportJobName = target_prophet_job_name,\n",
    "    ForecastArn = target_prophet_forecast_arn,\n",
    "    Destination={\n",
    "        \"S3Config\" : {\n",
    "            \"Path\": target_prophet_path,\n",
    "            \"RoleArn\": role_arn\n",
    "        }\n",
    "    })\n"
   ]
  },
  {
   "cell_type": "code",
   "execution_count": 12,
   "metadata": {},
   "outputs": [
    {
     "data": {
      "text/plain": [
       "{'ForecastExportJobArn': 'arn:aws:forecast:ap-northeast-2:057716757052:forecast-export-job/StoreItemDemand_prophet_algo_forecast_target57070/ProphetExport1_target57070',\n",
       " 'ForecastExportJobName': 'ProphetExport1_target57070',\n",
       " 'ForecastArn': 'arn:aws:forecast:ap-northeast-2:057716757052:forecast/StoreItemDemand_prophet_algo_forecast_target57070',\n",
       " 'Destination': {'S3Config': {'Path': 's3://sagemaker-ap-northeast-2-057716757052/StoreItemDemand/prophet__target57070',\n",
       "   'RoleArn': 'arn:aws:iam::057716757052:role/ForecastRolePOC57070'}},\n",
       " 'Status': 'CREATE_PENDING',\n",
       " 'CreationTime': datetime.datetime(2020, 8, 23, 2, 8, 41, 805000, tzinfo=tzlocal()),\n",
       " 'LastModificationTime': datetime.datetime(2020, 8, 23, 2, 8, 41, 805000, tzinfo=tzlocal()),\n",
       " 'ResponseMetadata': {'RequestId': '999c951e-8210-4328-8186-3d4908233533',\n",
       "  'HTTPStatusCode': 200,\n",
       "  'HTTPHeaders': {'content-type': 'application/x-amz-json-1.1',\n",
       "   'date': 'Sun, 23 Aug 2020 02:08:42 GMT',\n",
       "   'x-amzn-requestid': '999c951e-8210-4328-8186-3d4908233533',\n",
       "   'content-length': '621',\n",
       "   'connection': 'keep-alive'},\n",
       "  'RetryAttempts': 0}}"
      ]
     },
     "execution_count": 12,
     "metadata": {},
     "output_type": "execute_result"
    }
   ],
   "source": [
    "TargetForecastProphetExportJobArn = create_forecast_export_job_prophet_response[\"ForecastExportJobArn\"]\n",
    "forecast.describe_forecast_export_job(ForecastExportJobArn = TargetForecastProphetExportJobArn)"
   ]
  },
  {
   "cell_type": "markdown",
   "metadata": {},
   "source": [
    "#### DeepARP Export"
   ]
  },
  {
   "cell_type": "code",
   "execution_count": 13,
   "metadata": {},
   "outputs": [],
   "source": [
    "target_deeparp_path = \"s3://\" + bucket_name + \"/\" +  bucket_folder +  \"/deeparp_\" + target_suffix + suffix + \"/\" \n",
    "target_deeparp_job_name = \"DeepARPExport1\" + target_suffix + suffix\n",
    "create_forecast_export_job_deepar_response = forecast.create_forecast_export_job(\n",
    "    ForecastExportJobName = target_deeparp_job_name,\n",
    "    ForecastArn = target_deeparp_forecast_arn,\n",
    "    Destination={\n",
    "        \"S3Config\" : {\n",
    "            \"Path\": target_deeparp_path,\n",
    "            \"RoleArn\": role_arn\n",
    "        }\n",
    "    })"
   ]
  },
  {
   "cell_type": "code",
   "execution_count": 14,
   "metadata": {},
   "outputs": [
    {
     "data": {
      "text/plain": [
       "{'ForecastExportJobArn': 'arn:aws:forecast:ap-northeast-2:057716757052:forecast-export-job/StoreItemDemand_deeparp_algo_forecast_target57070/DeepARPExport1_target57070',\n",
       " 'ForecastExportJobName': 'DeepARPExport1_target57070',\n",
       " 'ForecastArn': 'arn:aws:forecast:ap-northeast-2:057716757052:forecast/StoreItemDemand_deeparp_algo_forecast_target57070',\n",
       " 'Destination': {'S3Config': {'Path': 's3://sagemaker-ap-northeast-2-057716757052/StoreItemDemand/deeparp__target57070',\n",
       "   'RoleArn': 'arn:aws:iam::057716757052:role/ForecastRolePOC57070'}},\n",
       " 'Status': 'CREATE_PENDING',\n",
       " 'CreationTime': datetime.datetime(2020, 8, 23, 2, 8, 43, 448000, tzinfo=tzlocal()),\n",
       " 'LastModificationTime': datetime.datetime(2020, 8, 23, 2, 8, 43, 448000, tzinfo=tzlocal()),\n",
       " 'ResponseMetadata': {'RequestId': 'c3826374-75b8-4da4-b2f7-7ab488910634',\n",
       "  'HTTPStatusCode': 200,\n",
       "  'HTTPHeaders': {'content-type': 'application/x-amz-json-1.1',\n",
       "   'date': 'Sun, 23 Aug 2020 02:08:43 GMT',\n",
       "   'x-amzn-requestid': 'c3826374-75b8-4da4-b2f7-7ab488910634',\n",
       "   'content-length': '621',\n",
       "   'connection': 'keep-alive'},\n",
       "  'RetryAttempts': 0}}"
      ]
     },
     "execution_count": 14,
     "metadata": {},
     "output_type": "execute_result"
    }
   ],
   "source": [
    "TargetForecastDeeparExportJobArn = create_forecast_export_job_deepar_response[\"ForecastExportJobArn\"]\n",
    "forecast.describe_forecast_export_job(ForecastExportJobArn = TargetForecastDeeparExportJobArn)"
   ]
  },
  {
   "cell_type": "markdown",
   "metadata": {},
   "source": [
    "3개의 Export Job이 완료 될때까지 기다립니다."
   ]
  },
  {
   "cell_type": "code",
   "execution_count": 19,
   "metadata": {},
   "outputs": [
    {
     "name": "stdout",
     "output_type": "stream",
     "text": [
      "Cnnqr:  ACTIVE\n",
      "Prophet:  CREATE_IN_PROGRESS\n",
      "DeepARP:  CREATE_IN_PROGRESS\n",
      "Cnnqr:  ACTIVE\n",
      "Prophet:  CREATE_IN_PROGRESS\n",
      "DeepARP:  CREATE_IN_PROGRESS\n",
      "Cnnqr:  ACTIVE\n",
      "Prophet:  CREATE_IN_PROGRESS\n",
      "DeepARP:  CREATE_IN_PROGRESS\n",
      "Cnnqr:  ACTIVE\n",
      "Prophet:  CREATE_IN_PROGRESS\n",
      "DeepARP:  CREATE_IN_PROGRESS\n",
      "Cnnqr:  ACTIVE\n",
      "Prophet:  CREATE_IN_PROGRESS\n",
      "DeepARP:  CREATE_IN_PROGRESS\n",
      "Cnnqr:  ACTIVE\n",
      "Prophet:  CREATE_IN_PROGRESS\n",
      "DeepARP:  CREATE_IN_PROGRESS\n",
      "Cnnqr:  ACTIVE\n",
      "Prophet:  ACTIVE\n",
      "DeepARP:  ACTIVE\n",
      "CPU times: user 62.8 ms, sys: 9.12 ms, total: 72 ms\n",
      "Wall time: 6min 1s\n"
     ]
    }
   ],
   "source": [
    "%%time\n",
    "# Check the Prophet status\n",
    "\n",
    "while True:\n",
    "    createCnnqrStatus = forecast.describe_forecast_export_job(ForecastExportJobArn= TargetForecastCnnqrtExportJobArn)['Status']    \n",
    "    createProphetStatus = forecast.describe_forecast_export_job(ForecastExportJobArn= TargetForecastProphetExportJobArn)['Status']\n",
    "    createDeeparpStatus = forecast.describe_forecast_export_job(ForecastExportJobArn= TargetForecastDeeparExportJobArn)['Status']    \n",
    "    print(\"Cnnqr: \", createCnnqrStatus)    \n",
    "    print(\"Prophet: \", createProphetStatus)\n",
    "    print(\"DeepARP: \", createProphetStatus)          \n",
    "    if createProphetStatus != 'ACTIVE' and createProphetStatus != 'CREATE_FAILED':\n",
    "        sleep(60)\n",
    "    elif createDeeparpStatus != 'ACTIVE' and createDeeparpStatus != 'CREATE_FAILED':\n",
    "        sleep(60)\n",
    "    elif createCnnqrStatus != 'ACTIVE' and createCnnqrStatus != 'CREATE_FAILED':\n",
    "        sleep(60)        \n",
    "    else:\n",
    "        break"
   ]
  },
  {
   "cell_type": "code",
   "execution_count": 21,
   "metadata": {},
   "outputs": [
    {
     "name": "stdout",
     "output_type": "stream",
     "text": [
      "Stored 'target_cnnqr_forecast_arn' (str)\n",
      "Stored 'target_prophet_forecast_arn' (str)\n",
      "Stored 'target_deeparp_forecast_arn' (str)\n",
      "Stored 'TargetForecastCnnqrtExportJobArn' (str)\n",
      "Stored 'TargetForecastProphetExportJobArn' (str)\n",
      "Stored 'TargetForecastDeeparExportJobArn' (str)\n"
     ]
    }
   ],
   "source": [
    "%store target_cnnqr_forecast_arn\n",
    "%store target_prophet_forecast_arn\n",
    "%store target_deeparp_forecast_arn\n",
    "%store TargetForecastCnnqrtExportJobArn\n",
    "%store TargetForecastProphetExportJobArn\n",
    "%store TargetForecastDeeparExportJobArn\n",
    "\n"
   ]
  },
  {
   "cell_type": "code",
   "execution_count": null,
   "metadata": {},
   "outputs": [],
   "source": []
  },
  {
   "cell_type": "code",
   "execution_count": null,
   "metadata": {},
   "outputs": [],
   "source": []
  },
  {
   "cell_type": "code",
   "execution_count": null,
   "metadata": {},
   "outputs": [],
   "source": []
  },
  {
   "cell_type": "code",
   "execution_count": null,
   "metadata": {},
   "outputs": [],
   "source": []
  }
 ],
 "metadata": {
  "kernelspec": {
   "display_name": "conda_python3",
   "language": "python",
   "name": "conda_python3"
  },
  "language_info": {
   "codemirror_mode": {
    "name": "ipython",
    "version": 3
   },
   "file_extension": ".py",
   "mimetype": "text/x-python",
   "name": "python",
   "nbconvert_exporter": "python",
   "pygments_lexer": "ipython3",
   "version": "3.6.10"
  }
 },
 "nbformat": 4,
 "nbformat_minor": 4
}

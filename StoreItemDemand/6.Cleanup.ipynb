{
 "cells": [
  {
   "cell_type": "markdown",
   "metadata": {},
   "source": [
    "# [Module 6] 리소스 클린 업 (Cleanup resources)\n",
    "- 이번 핸즈온에서 생성한 리소스를 클린 업 합니다."
   ]
  },
  {
   "cell_type": "code",
   "execution_count": 1,
   "metadata": {},
   "outputs": [],
   "source": [
    "import boto3\n",
    "import time\n",
    "import os\n",
    "from time import sleep"
   ]
  },
  {
   "cell_type": "code",
   "execution_count": 4,
   "metadata": {},
   "outputs": [],
   "source": [
    "%store -r"
   ]
  },
  {
   "cell_type": "code",
   "execution_count": 5,
   "metadata": {},
   "outputs": [
    {
     "name": "stdout",
     "output_type": "stream",
     "text": [
      "Stored variables and their in-db values:\n",
      "TargetForecastCnnqrtExportJobArn              -> 'arn:aws:forecast:ap-northeast-2:057716757052:fore\n",
      "TargetForecastDeeparExportJobArn              -> 'arn:aws:forecast:ap-northeast-2:057716757052:fore\n",
      "TargetForecastProphetExportJobArn             -> 'arn:aws:forecast:ap-northeast-2:057716757052:fore\n",
      "bucket_folder                                 -> 'StoreItemDemand'\n",
      "bucket_name                                   -> 'sagemaker-ap-northeast-2-057716757052'\n",
      "ds_target_import_job_arn                      -> 'arn:aws:forecast:ap-northeast-2:057716757052:data\n",
      "project                                       -> 'StoreItemDemand'\n",
      "region                                        -> 'ap-northeast-2'\n",
      "role_arn                                      -> 'arn:aws:iam::057716757052:role/ForecastRolePOC570\n",
      "role_name                                     -> 'ForecastRolePOC57070'\n",
      "suffix                                        -> '57070'\n",
      "target_cnnqr_forecast_arn                     -> 'arn:aws:forecast:ap-northeast-2:057716757052:fore\n",
      "target_cnnqr_predictorArn                     -> 'arn:aws:forecast:ap-northeast-2:057716757052:pred\n",
      "target_datasetArn                             -> 'arn:aws:forecast:ap-northeast-2:057716757052:data\n",
      "target_datasetGroupArn                        -> 'arn:aws:forecast:ap-northeast-2:057716757052:data\n",
      "target_deepar_predictorArn                    -> 'arn:aws:forecast:ap-northeast-2:057716757052:pred\n",
      "target_deeparp_forecast_arn                   -> 'arn:aws:forecast:ap-northeast-2:057716757052:fore\n",
      "target_prophet_forecast_arn                   -> 'arn:aws:forecast:ap-northeast-2:057716757052:fore\n",
      "target_prophet_predictorArn                   -> 'arn:aws:forecast:ap-northeast-2:057716757052:pred\n",
      "target_suffix                                 -> '_target'\n",
      "train_stores_sales                            ->            item_id store  sales\n",
      "date              \n",
      "train_time_series_filename                    -> 'train_target_time_series.csv'\n",
      "train_time_series_path                        -> 'data/train_target_time_series.csv'\n",
      "validation_stores_sales                       ->            item_id store  sales\n",
      "date              \n",
      "validation_time_series_filename               -> 'validation_time_series.csv'\n",
      "validation_time_series_path                   -> 'data/validation_time_series.csv'\n"
     ]
    }
   ],
   "source": [
    "%store"
   ]
  },
  {
   "cell_type": "code",
   "execution_count": null,
   "metadata": {},
   "outputs": [],
   "source": [
    "session = boto3.Session(region_name=region)\n",
    "forecast = session.client(service_name='forecast')"
   ]
  },
  {
   "cell_type": "markdown",
   "metadata": {},
   "source": [
    "## Forecast Exporter"
   ]
  },
  {
   "cell_type": "code",
   "execution_count": null,
   "metadata": {},
   "outputs": [],
   "source": [
    "forecast.delete_forecast_export_job(\n",
    "    ForecastExportJobArn= TargetForecastProphetExportJobArn\n",
    ")\n",
    "\n",
    "forecast.delete_forecast_export_job(\n",
    "    ForecastExportJobArn= TargetForecastDeeparExportJobArn\n",
    ")\n",
    "\n",
    "forecast.delete_forecast_export_job(\n",
    "    ForecastExportJobArn= TargetForecastCnnqrtExportJobArn\n",
    ")\n",
    "\n",
    "time.sleep(30)"
   ]
  },
  {
   "cell_type": "markdown",
   "metadata": {},
   "source": [
    "## Forecast Forecasts"
   ]
  },
  {
   "cell_type": "code",
   "execution_count": null,
   "metadata": {},
   "outputs": [],
   "source": [
    "# Prophet\n",
    "response = forecast.delete_forecast(\n",
    "    ForecastArn= target_prophet_forecast_arn\n",
    ")\n",
    "# Deeparp\n",
    "response = forecast.delete_forecast(\n",
    "    ForecastArn= target_deeparp_forecast_arn\n",
    ")\n",
    "# cnnqr\n",
    "response = forecast.delete_forecast(\n",
    "    ForecastArn= target_cnnqr_forecast_arn\n",
    ")\n",
    "\n",
    "time.sleep(30)"
   ]
  },
  {
   "cell_type": "markdown",
   "metadata": {},
   "source": [
    "## Forecast Predictor"
   ]
  },
  {
   "cell_type": "code",
   "execution_count": null,
   "metadata": {},
   "outputs": [],
   "source": [
    "# Prophet\n",
    "response = forecast.delete_predictor(\n",
    "    PredictorArn= target_prophet_predictorArn\n",
    ")\n",
    "# Deeparp\n",
    "response = forecast.delete_predictor(\n",
    "    PredictorArn= target_deepar_predictorArn\n",
    ")\n",
    "# cnnqr\n",
    "response = forecast.delete_predictor(\n",
    "    PredictorArn= target_cnnqr_predictorArn\n",
    ")\n",
    "time.sleep(90)"
   ]
  },
  {
   "cell_type": "markdown",
   "metadata": {},
   "source": [
    "## Forecast Dataset Import Job"
   ]
  },
  {
   "cell_type": "code",
   "execution_count": null,
   "metadata": {},
   "outputs": [],
   "source": [
    "# On a target time series dataset\n",
    "response = forecast.delete_dataset_import_job(\n",
    "    DatasetImportJobArn= ds_target_import_job_arn\n",
    ")\n",
    "time.sleep(30)"
   ]
  },
  {
   "cell_type": "markdown",
   "metadata": {},
   "source": [
    "## Forecast Dataset"
   ]
  },
  {
   "cell_type": "code",
   "execution_count": null,
   "metadata": {},
   "outputs": [],
   "source": [
    "response = forecast.delete_dataset(\n",
    "    DatasetArn= target_datasetArn\n",
    ")\n",
    "time.sleep(30)"
   ]
  },
  {
   "cell_type": "markdown",
   "metadata": {},
   "source": [
    "## Forecast Dataset Group"
   ]
  },
  {
   "cell_type": "code",
   "execution_count": null,
   "metadata": {},
   "outputs": [],
   "source": [
    "response = forecast.delete_dataset_group(\n",
    "    DatasetGroupArn= target_datasetGroupArn\n",
    ")\n",
    "time.sleep(10)"
   ]
  },
  {
   "cell_type": "markdown",
   "metadata": {},
   "source": [
    "## S3 Bucket\n",
    "**IMPORTANT: all folders are deleted** \n",
    "If needed, please do this command after uncommenting the cell below"
   ]
  },
  {
   "cell_type": "code",
   "execution_count": null,
   "metadata": {},
   "outputs": [],
   "source": [
    "# import boto3\n",
    "# s3 = boto3.resource('s3')\n",
    "# bucket = s3.Bucket(bucket_name)\n",
    "# for key in bucket.objects.all():\n",
    "#     key.delete()\n",
    "# bucket.delete()"
   ]
  },
  {
   "cell_type": "markdown",
   "metadata": {},
   "source": [
    "## IAM Role"
   ]
  },
  {
   "cell_type": "code",
   "execution_count": null,
   "metadata": {},
   "outputs": [],
   "source": [
    "# IAM policies should also be removed\n",
    "iam = boto3.client(\"iam\")\n",
    "iam.detach_role_policy(PolicyArn=\"arn:aws:iam::aws:policy/AmazonForecastFullAccess\", RoleName=role_name)\n",
    "iam.detach_role_policy(PolicyArn=\"arn:aws:iam::aws:policy/AmazonS3FullAccess\",RoleName=role_name)\n",
    "\n",
    "iam.delete_role(RoleName=role_name)"
   ]
  },
  {
   "cell_type": "code",
   "execution_count": null,
   "metadata": {},
   "outputs": [],
   "source": []
  }
 ],
 "metadata": {
  "kernelspec": {
   "display_name": "conda_python3",
   "language": "python",
   "name": "conda_python3"
  },
  "language_info": {
   "codemirror_mode": {
    "name": "ipython",
    "version": 3
   },
   "file_extension": ".py",
   "mimetype": "text/x-python",
   "name": "python",
   "nbconvert_exporter": "python",
   "pygments_lexer": "ipython3",
   "version": "3.6.10"
  }
 },
 "nbformat": 4,
 "nbformat_minor": 4
}

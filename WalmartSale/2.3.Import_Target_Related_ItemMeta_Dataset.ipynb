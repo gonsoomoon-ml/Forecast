{
 "cells": [
  {
   "cell_type": "markdown",
   "metadata": {},
   "source": [
    "# [Module 2.3] Forecast 학습 데이터 준비 (Import Dataset)\n",
    "- 이 노트북에서는 이전에 생성한 target_time_series.csv, related_time_series.csv, store_meta.csv 파일을 가지고 Forecast가 학습을 할 수 있게 하는 작업을 합니다.  \n",
    "\n",
    "아래 (1) 단계의 데이타 파일의 준비는 이전 노트북에서 준비가 되었고, 여기서는 (2) ~ (7) 의 과정을 수행 합니다.\n",
    "\n",
    "![Fig.2.1.Forecast-Lifecycle](../StoreItemDemand/img/Fig.2.1.Forecast-Lifecycle.png)\n",
    "**Source: By Kyoungtae Hwang**\n",
    "\n",
    "상세하게 이 노트북은 아래와 같은 작업을 수행 합니다.<br>\n",
    "\n",
    "- Create IAM role\n",
    "    - forecast 서비스가 다른 서비스(예: S3)에 접근시 사용할 역할을 생성하고 권한을 부여 합니다.\n",
    "    \n",
    "    \n",
    "- (2) 데이터 파일 S3에 업로드 (Upload the Target Data to S3)\n",
    "    - 이전 노트북에서 만든 target_time_series.csv, related_time_series.csv, store_meta.csv 파일을 S3에 업로드 합니다.\n",
    "\n",
    "\n",
    "- (3) Create a dataset group\n",
    "    - 전체 데이터 셋을 (Target Data Set, Related Data Set, Item Meta Data Set)을 담을 상위의 Dataset Group을 생성 합니다. \n",
    "\n",
    "**아래의 (4), (5)는 Target, Related, Item-Meta를 세번 반복 합니다.**\n",
    "- (4) Create schema \n",
    "    - 여기서는 컬럼 타입을 정의하는 스키마 파일을 정의해서 Forecast서비스가 어떠한 데이타가 입력 되는지를 알게 합니다.\n",
    "\n",
    "\n",
    "- (5) Create Target Dataset\n",
    "    - 실제로 Target Data Set을 생성 합니다.\n",
    "\n",
    "\n",
    "- (6) Update dataset group\n",
    "    - 위에서 생성된 Target, Related and Item-Meta Data Set을 Dataset Group에 연결 시키는 작업을 합니다.\n",
    "\n",
    "\n",
    "- (7) Create dataset import job\n",
    "    - S3에 업로드 된 Target, Related, Item-Meta의 3개의 파일을 Import하여 Forecast 서비스가 사용할 수 있게 합니다.\n",
    "    \n",
    "---    \n",
    "이 과정은 약 10분 정도 소요 됩니다 **About 10 mins may be elapsed**\n"
   ]
  },
  {
   "cell_type": "code",
   "execution_count": 1,
   "metadata": {},
   "outputs": [],
   "source": [
    "import boto3\n",
    "from time import sleep\n",
    "import os\n",
    "import pandas as pd\n",
    "import json\n",
    "import time\n",
    "import pprint\n",
    "import numpy as np"
   ]
  },
  {
   "cell_type": "code",
   "execution_count": 2,
   "metadata": {},
   "outputs": [],
   "source": [
    "%store -r"
   ]
  },
  {
   "cell_type": "markdown",
   "metadata": {},
   "source": [
    "## Project Name 및 Parameters"
   ]
  },
  {
   "cell_type": "markdown",
   "metadata": {},
   "source": [
    "- Dataset의 이름을 정합니다.\n",
    "- DATASET_FREQUENCY 를 Weekly로 설정 합니다. \n",
    "- 또한 TIMESTAMP_FORMAT 를 yyyy-mm-dd 형식으로 지정 합니다.\n"
   ]
  },
  {
   "cell_type": "code",
   "execution_count": 3,
   "metadata": {},
   "outputs": [],
   "source": [
    "DATASET_FREQUENCY = \"W\" \n",
    "TIMESTAMP_FORMAT = \"yyyy-MM-dd\"\n",
    "\n",
    "project = 'WalmartKaggleWithThreeDatasets'\n",
    "suffix = str(np.random.uniform())[4:9]\n",
    "target_suffix = '_Target'\n",
    "related_suffix = '_Related'\n",
    "item_meta_suffix = '_ItemMeta'\n",
    "\n",
    "target_datasetName= project+'DS' + target_suffix + suffix\n",
    "item_meta_dataset_name= project+'DS' + item_meta_suffix + suffix\n",
    "related_dataset_Name= project+'DS' + related_suffix + suffix\n",
    "item_datasetGroupName= project +'DSG'+ item_meta_suffix + suffix"
   ]
  },
  {
   "cell_type": "code",
   "execution_count": 4,
   "metadata": {},
   "outputs": [],
   "source": [
    "region = boto3.Session().region_name\n",
    "session = boto3.Session(region_name=region)\n",
    "forecast = session.client(service_name='forecast')"
   ]
  },
  {
   "cell_type": "markdown",
   "metadata": {},
   "source": [
    "## 역할 생성 (Create role)\n",
    "\n",
    "**이 작업을 하기 전에  이 노트북을 실행하는 SageMaker notebook instance 가 AmazonSageMakerFullAccess, AmazonS3FullAccess, AmazonForecastFullAccess, IAMFullAccess 4개의 정책을 가지고 있어야 합니다.**\n",
    "만일 아래 셀에서 에러가 발생했다면, [AddPolicy](../0.0.Prerequisite/Prerequisite.md) 의 스크롤을 내려서 \"3. Add IAM Policy (Permission)\" 부분 부터 시작하여 권한 추가 해주세요. (Make sure that a role for SageMaker notebook instance has these policies attached such as AmazonSageMakerFullAccess, AmazonS3FullAccess, AmazonForecastFullAccess, IAMFullAccess)\n",
    "\n",
    "이 부분은 ForecastRolePOC_XXX 역할을 생성하고, ForecastRolePOC_XXX 에게 AmazonForecastFullAccess, AmazonS3FullAccess 이 두개의 Policy(권한)을 부여 합니다. ForecastRolePOC_XXX 는 Forecast 서비스가 다른 서비스(예: S3) 에 접근시 사용합니다.\n",
    "\n"
   ]
  },
  {
   "cell_type": "code",
   "execution_count": 5,
   "metadata": {},
   "outputs": [
    {
     "name": "stdout",
     "output_type": "stream",
     "text": [
      "arn:aws:iam::057716757052:role/ForecastRoleWalmart91891\n"
     ]
    }
   ],
   "source": [
    "iam = boto3.client(\"iam\")\n",
    "\n",
    "# Put the role name\n",
    "role_name = \"ForecastRoleWalmart\" + suffix\n",
    "assume_role_policy_document = {\n",
    "    \"Version\": \"2012-10-17\",\n",
    "    \"Statement\": [\n",
    "        {\n",
    "          \"Effect\": \"Allow\",\n",
    "          \"Principal\": {\n",
    "            \"Service\": \"forecast.amazonaws.com\"\n",
    "          },\n",
    "          \"Action\": \"sts:AssumeRole\"\n",
    "        }\n",
    "    ]\n",
    "}\n",
    "\n",
    "create_role_response = iam.create_role(\n",
    "    RoleName = role_name,\n",
    "    AssumeRolePolicyDocument = json.dumps(assume_role_policy_document)\n",
    ")\n",
    "\n",
    "# AmazonPersonalizeFullAccess provides access to any S3 bucket with a name that includes \"personalize\" or \"Personalize\" \n",
    "# if you would like tåo use a bucket with a different name, please consider creating and attaching a new policy\n",
    "# that provides read access to your bucket or attaching the AmazonS3ReadOnlyAccess policy to the role\n",
    "policy_arn = \"arn:aws:iam::aws:policy/AmazonForecastFullAccess\"\n",
    "iam.attach_role_policy(\n",
    "    RoleName = role_name,\n",
    "    PolicyArn = policy_arn\n",
    ")\n",
    "\n",
    "# Now add S3 support\n",
    "iam.attach_role_policy(\n",
    "    PolicyArn='arn:aws:iam::aws:policy/AmazonS3FullAccess',\n",
    "    RoleName=role_name\n",
    ")\n",
    "time.sleep(60) # wait for a minute to allow IAM role policy attachment to propagate\n",
    "\n",
    "role_arn = create_role_response[\"Role\"][\"Arn\"]\n",
    "print(role_arn)"
   ]
  },
  {
   "cell_type": "markdown",
   "metadata": {},
   "source": [
    "## (2) 데이터 파일 S3에 업로드 - 가장 상단 이미지의 (2) 과정 임\n",
    "\n",
    "버킷을 생성하고 이전에 노트북에서 생성한 3개의 csv 파일을 S3에 업로드 합니다."
   ]
  },
  {
   "cell_type": "code",
   "execution_count": 6,
   "metadata": {},
   "outputs": [
    {
     "name": "stdout",
     "output_type": "stream",
     "text": [
      "bucket name is  sagemaker-ap-northeast-2-057716757052\n"
     ]
    }
   ],
   "source": [
    "import boto3\n",
    "import sagemaker\n",
    "\n",
    "s3_resource = boto3.resource('s3')\n",
    "s3 = boto3.client('s3')\n",
    "\n",
    "# if you want, replace with a name of your S3 bucket\n",
    "bucket_name = sagemaker.Session().default_bucket()  \n",
    "\n",
    "if s3_resource.Bucket(bucket_name).creation_date is None:\n",
    "    # bucket is not existing \n",
    "    s3.create_bucket(Bucket=bucket_name, CreateBucketConfiguration={'LocationConstraint': region})    \n",
    "else: \n",
    "    # Bucket exists\n",
    "    print(\"bucket name is \", bucket_name)\n",
    "    "
   ]
  },
  {
   "cell_type": "code",
   "execution_count": 7,
   "metadata": {},
   "outputs": [],
   "source": [
    "# Upload Target File under a bucket folder\n",
    "bucket_folder = project\n",
    "s3_file_path = bucket_folder + \"/\" + target_time_series_filename\n",
    "\n",
    "boto3.Session().resource('s3').Bucket(bucket_name).Object(s3_file_path).upload_file(target_time_series_path)\n",
    "target_s3DataPath = \"s3://\"+bucket_name + \"/\" + s3_file_path\n",
    "\n",
    "# Upload Related File under a bucket folder\n",
    "bucket_folder = project\n",
    "s3_file_path = bucket_folder + \"/\" + related_time_series_filename\n",
    "\n",
    "boto3.Session().resource('s3').Bucket(bucket_name).Object(s3_file_path).upload_file(related_time_series_path)\n",
    "related_s3DataPath = \"s3://\"+bucket_name + \"/\" + s3_file_path\n",
    "\n",
    "# Upload Item Meta File under a bucket folder\n",
    "bucket_folder = project\n",
    "s3_file_path = bucket_folder + \"/\" + store_meta_filename\n",
    "\n",
    "boto3.Session().resource('s3').Bucket(bucket_name).Object(s3_file_path).upload_file(store_meta_path)\n",
    "item_meta_s3DataPath = \"s3://\"+bucket_name + \"/\" + s3_file_path"
   ]
  },
  {
   "cell_type": "markdown",
   "metadata": {},
   "source": [
    "## (3) Create Dataset Group\n",
    "\n",
    "Dataset Group을 생성 합니다. 도메인은 CUSTOM을 사용 합니다."
   ]
  },
  {
   "cell_type": "code",
   "execution_count": 8,
   "metadata": {},
   "outputs": [],
   "source": [
    "# Create the DatasetGroup\n",
    "create_dataset_group_response = forecast.create_dataset_group(\n",
    "      DatasetGroupName=item_datasetGroupName,\n",
    "      Domain=\"CUSTOM\",\n",
    "     )\n",
    "item_meta_datasetGroupArn = create_dataset_group_response['DatasetGroupArn']"
   ]
  },
  {
   "cell_type": "code",
   "execution_count": 9,
   "metadata": {},
   "outputs": [
    {
     "data": {
      "text/plain": [
       "{'DatasetGroupName': 'WalmartKaggleWithThreeDatasetsDSG_ItemMeta91891',\n",
       " 'DatasetGroupArn': 'arn:aws:forecast:ap-northeast-2:057716757052:dataset-group/WalmartKaggleWithThreeDatasetsDSG_ItemMeta91891',\n",
       " 'DatasetArns': [],\n",
       " 'Domain': 'CUSTOM',\n",
       " 'Status': 'ACTIVE',\n",
       " 'CreationTime': datetime.datetime(2020, 8, 23, 7, 49, 0, 982000, tzinfo=tzlocal()),\n",
       " 'LastModificationTime': datetime.datetime(2020, 8, 23, 7, 49, 0, 982000, tzinfo=tzlocal()),\n",
       " 'ResponseMetadata': {'RequestId': 'b5e3f218-a981-4505-a29d-8cae83b17db0',\n",
       "  'HTTPStatusCode': 200,\n",
       "  'HTTPHeaders': {'content-type': 'application/x-amz-json-1.1',\n",
       "   'date': 'Sun, 23 Aug 2020 07:49:02 GMT',\n",
       "   'x-amzn-requestid': 'b5e3f218-a981-4505-a29d-8cae83b17db0',\n",
       "   'content-length': '322',\n",
       "   'connection': 'keep-alive'},\n",
       "  'RetryAttempts': 0}}"
      ]
     },
     "execution_count": 9,
     "metadata": {},
     "output_type": "execute_result"
    }
   ],
   "source": [
    "forecast.describe_dataset_group(DatasetGroupArn=item_meta_datasetGroupArn)"
   ]
  },
  {
   "cell_type": "markdown",
   "metadata": {},
   "source": [
    "## (4) Create schema for target data\n",
    "\n",
    "target dataset schema를 생성 합니다. "
   ]
  },
  {
   "cell_type": "code",
   "execution_count": 10,
   "metadata": {},
   "outputs": [],
   "source": [
    "# Specify the schema of your dataset here. Make sure the order of columns matches the raw data files.\n",
    "target_schema ={\n",
    "   \"Attributes\":[\n",
    "      {\n",
    "         \"AttributeName\":\"timestamp\",\n",
    "         \"AttributeType\":\"timestamp\"\n",
    "      },\n",
    "      {\n",
    "         \"AttributeName\":\"target_value\",\n",
    "         \"AttributeType\":\"float\"\n",
    "      },\n",
    "      {\n",
    "         \"AttributeName\":\"item_id\",\n",
    "         \"AttributeType\":\"string\"\n",
    "      }\n",
    "   ]\n",
    "}"
   ]
  },
  {
   "cell_type": "markdown",
   "metadata": {},
   "source": [
    "## (5) Create Target Time Sereis Dataset"
   ]
  },
  {
   "cell_type": "code",
   "execution_count": 11,
   "metadata": {},
   "outputs": [],
   "source": [
    "response=forecast.create_dataset(\n",
    "                    Domain=\"CUSTOM\",\n",
    "                    DatasetType='TARGET_TIME_SERIES',\n",
    "                    DatasetName=target_datasetName,\n",
    "                    DataFrequency=DATASET_FREQUENCY, \n",
    "                    Schema = target_schema\n",
    ")"
   ]
  },
  {
   "cell_type": "code",
   "execution_count": 12,
   "metadata": {},
   "outputs": [
    {
     "data": {
      "text/plain": [
       "{'DatasetArn': 'arn:aws:forecast:ap-northeast-2:057716757052:dataset/WalmartKaggleWithThreeDatasetsDS_Target91891',\n",
       " 'DatasetName': 'WalmartKaggleWithThreeDatasetsDS_Target91891',\n",
       " 'Domain': 'CUSTOM',\n",
       " 'DatasetType': 'TARGET_TIME_SERIES',\n",
       " 'DataFrequency': 'W',\n",
       " 'Schema': {'Attributes': [{'AttributeName': 'timestamp',\n",
       "    'AttributeType': 'timestamp'},\n",
       "   {'AttributeName': 'target_value', 'AttributeType': 'float'},\n",
       "   {'AttributeName': 'item_id', 'AttributeType': 'string'}]},\n",
       " 'EncryptionConfig': {},\n",
       " 'Status': 'ACTIVE',\n",
       " 'CreationTime': datetime.datetime(2020, 8, 23, 7, 49, 7, 118000, tzinfo=tzlocal()),\n",
       " 'LastModificationTime': datetime.datetime(2020, 8, 23, 7, 49, 7, 118000, tzinfo=tzlocal()),\n",
       " 'ResponseMetadata': {'RequestId': '32f6610f-96eb-40e0-9f21-d4d2d71782bf',\n",
       "  'HTTPStatusCode': 200,\n",
       "  'HTTPHeaders': {'content-type': 'application/x-amz-json-1.1',\n",
       "   'date': 'Sun, 23 Aug 2020 07:49:08 GMT',\n",
       "   'x-amzn-requestid': '32f6610f-96eb-40e0-9f21-d4d2d71782bf',\n",
       "   'content-length': '554',\n",
       "   'connection': 'keep-alive'},\n",
       "  'RetryAttempts': 0}}"
      ]
     },
     "execution_count": 12,
     "metadata": {},
     "output_type": "execute_result"
    }
   ],
   "source": [
    "target_second_datasetArn = response['DatasetArn']\n",
    "forecast.describe_dataset(DatasetArn=target_second_datasetArn)"
   ]
  },
  {
   "cell_type": "markdown",
   "metadata": {},
   "source": [
    "## (4) Create schema for related data"
   ]
  },
  {
   "cell_type": "code",
   "execution_count": 13,
   "metadata": {},
   "outputs": [],
   "source": [
    "# Specify the schema of your dataset here. Make sure the order of columns matches the raw data files.\n",
    "related_schema ={\n",
    "   \"Attributes\":[\n",
    "      {\n",
    "         \"AttributeName\":\"timestamp\",\n",
    "         \"AttributeType\":\"timestamp\"\n",
    "      },\n",
    "      {\n",
    "         \"AttributeName\":\"Temperature\",\n",
    "         \"AttributeType\":\"float\"\n",
    "      },\n",
    "      {\n",
    "         \"AttributeName\":\"Fuel_Price\",\n",
    "         \"AttributeType\":\"float\"\n",
    "      },\n",
    "      {\n",
    "         \"AttributeName\":\"item_id\",\n",
    "         \"AttributeType\":\"string\"\n",
    "      }       \n",
    "   ]\n",
    "}"
   ]
  },
  {
   "cell_type": "markdown",
   "metadata": {},
   "source": [
    "## (5) Create Related Time Sereis Dataset"
   ]
  },
  {
   "cell_type": "code",
   "execution_count": 14,
   "metadata": {},
   "outputs": [],
   "source": [
    "response=forecast.create_dataset(\n",
    "                    Domain=\"CUSTOM\",\n",
    "                    DatasetType='RELATED_TIME_SERIES',\n",
    "                    DatasetName=related_dataset_Name,\n",
    "                    DataFrequency=DATASET_FREQUENCY, \n",
    "                    Schema = related_schema\n",
    ")"
   ]
  },
  {
   "cell_type": "code",
   "execution_count": 15,
   "metadata": {},
   "outputs": [
    {
     "data": {
      "text/plain": [
       "{'DatasetArn': 'arn:aws:forecast:ap-northeast-2:057716757052:dataset/WalmartKaggleWithThreeDatasetsDS_Related91891',\n",
       " 'DatasetName': 'WalmartKaggleWithThreeDatasetsDS_Related91891',\n",
       " 'Domain': 'CUSTOM',\n",
       " 'DatasetType': 'RELATED_TIME_SERIES',\n",
       " 'DataFrequency': 'W',\n",
       " 'Schema': {'Attributes': [{'AttributeName': 'timestamp',\n",
       "    'AttributeType': 'timestamp'},\n",
       "   {'AttributeName': 'Temperature', 'AttributeType': 'float'},\n",
       "   {'AttributeName': 'Fuel_Price', 'AttributeType': 'float'},\n",
       "   {'AttributeName': 'item_id', 'AttributeType': 'string'}]},\n",
       " 'EncryptionConfig': {},\n",
       " 'Status': 'ACTIVE',\n",
       " 'CreationTime': datetime.datetime(2020, 8, 23, 7, 49, 12, 803000, tzinfo=tzlocal()),\n",
       " 'LastModificationTime': datetime.datetime(2020, 8, 23, 7, 49, 12, 803000, tzinfo=tzlocal()),\n",
       " 'ResponseMetadata': {'RequestId': '56f91a18-e33c-412d-b961-430764b0f3d5',\n",
       "  'HTTPStatusCode': 200,\n",
       "  'HTTPHeaders': {'content-type': 'application/x-amz-json-1.1',\n",
       "   'date': 'Sun, 23 Aug 2020 07:49:14 GMT',\n",
       "   'x-amzn-requestid': '56f91a18-e33c-412d-b961-430764b0f3d5',\n",
       "   'content-length': '611',\n",
       "   'connection': 'keep-alive'},\n",
       "  'RetryAttempts': 0}}"
      ]
     },
     "execution_count": 15,
     "metadata": {},
     "output_type": "execute_result"
    }
   ],
   "source": [
    "related_datasetArn = response['DatasetArn']\n",
    "forecast.describe_dataset(DatasetArn=related_datasetArn)"
   ]
  },
  {
   "cell_type": "markdown",
   "metadata": {},
   "source": [
    "## (4) Create schema for Item Meta data"
   ]
  },
  {
   "cell_type": "code",
   "execution_count": 16,
   "metadata": {},
   "outputs": [],
   "source": [
    "# Specify the schema of your dataset here. Make sure the order of columns matches the raw data files.\n",
    "item_meta_schema ={\n",
    "   \"Attributes\":[\n",
    "      {\n",
    "         \"AttributeName\":\"item_id\",\n",
    "         \"AttributeType\":\"string\"\n",
    "      },       \n",
    "      {\n",
    "         \"AttributeName\":\"StoreType\",\n",
    "         \"AttributeType\":\"string\"\n",
    "      }       \n",
    "   ]\n",
    "}"
   ]
  },
  {
   "cell_type": "markdown",
   "metadata": {},
   "source": [
    "## (5) Create Item-Meta Dataset"
   ]
  },
  {
   "cell_type": "code",
   "execution_count": 17,
   "metadata": {},
   "outputs": [],
   "source": [
    "response=forecast.create_dataset(\n",
    "                    Domain=\"CUSTOM\",\n",
    "                    DatasetType='ITEM_METADATA',\n",
    "                    DatasetName=item_meta_dataset_name,\n",
    "                    DataFrequency=DATASET_FREQUENCY, \n",
    "                    Schema = item_meta_schema\n",
    ")"
   ]
  },
  {
   "cell_type": "code",
   "execution_count": 18,
   "metadata": {},
   "outputs": [
    {
     "data": {
      "text/plain": [
       "{'DatasetArn': 'arn:aws:forecast:ap-northeast-2:057716757052:dataset/WalmartKaggleWithThreeDatasetsDS_ItemMeta91891',\n",
       " 'DatasetName': 'WalmartKaggleWithThreeDatasetsDS_ItemMeta91891',\n",
       " 'Domain': 'CUSTOM',\n",
       " 'DatasetType': 'ITEM_METADATA',\n",
       " 'Schema': {'Attributes': [{'AttributeName': 'item_id',\n",
       "    'AttributeType': 'string'},\n",
       "   {'AttributeName': 'StoreType', 'AttributeType': 'string'}]},\n",
       " 'EncryptionConfig': {},\n",
       " 'Status': 'ACTIVE',\n",
       " 'CreationTime': datetime.datetime(2020, 8, 23, 7, 49, 17, 585000, tzinfo=tzlocal()),\n",
       " 'LastModificationTime': datetime.datetime(2020, 8, 23, 7, 49, 17, 585000, tzinfo=tzlocal()),\n",
       " 'ResponseMetadata': {'RequestId': 'affdbefa-41fe-4da6-86d7-b3112174d43b',\n",
       "  'HTTPStatusCode': 200,\n",
       "  'HTTPHeaders': {'content-type': 'application/x-amz-json-1.1',\n",
       "   'date': 'Sun, 23 Aug 2020 07:49:18 GMT',\n",
       "   'x-amzn-requestid': 'affdbefa-41fe-4da6-86d7-b3112174d43b',\n",
       "   'content-length': '473',\n",
       "   'connection': 'keep-alive'},\n",
       "  'RetryAttempts': 0}}"
      ]
     },
     "execution_count": 18,
     "metadata": {},
     "output_type": "execute_result"
    }
   ],
   "source": [
    "item_meta_datasetArn = response['DatasetArn']\n",
    "forecast.describe_dataset(DatasetArn=item_meta_datasetArn)"
   ]
  },
  {
   "cell_type": "markdown",
   "metadata": {},
   "source": [
    "## (6) Update dataset group with the target, related and item_meta dataset"
   ]
  },
  {
   "cell_type": "code",
   "execution_count": 19,
   "metadata": {},
   "outputs": [
    {
     "data": {
      "text/plain": [
       "{'ResponseMetadata': {'RequestId': 'f0c75e73-83bc-4c75-9fec-5460dfda87b1',\n",
       "  'HTTPStatusCode': 200,\n",
       "  'HTTPHeaders': {'content-type': 'application/x-amz-json-1.1',\n",
       "   'date': 'Sun, 23 Aug 2020 07:49:20 GMT',\n",
       "   'x-amzn-requestid': 'f0c75e73-83bc-4c75-9fec-5460dfda87b1',\n",
       "   'content-length': '2',\n",
       "   'connection': 'keep-alive'},\n",
       "  'RetryAttempts': 0}}"
      ]
     },
     "execution_count": 19,
     "metadata": {},
     "output_type": "execute_result"
    }
   ],
   "source": [
    "# Attach the target dataset and related data set  to the Dataset Group:\n",
    "forecast.update_dataset_group(\n",
    "    DatasetGroupArn=item_meta_datasetGroupArn, \n",
    "    DatasetArns=[target_second_datasetArn,\n",
    "                 related_datasetArn,\n",
    "                 item_meta_datasetArn])"
   ]
  },
  {
   "cell_type": "markdown",
   "metadata": {},
   "source": [
    "## (7) Create dataset_import_job used to download dataset from S3"
   ]
  },
  {
   "cell_type": "code",
   "execution_count": 20,
   "metadata": {},
   "outputs": [],
   "source": [
    "# Target Import Job\n",
    "datasetImportJobName = 'DSIMPORT_JOB_TARGET_WALMART' + suffix\n",
    "ds_import_job_response=forecast.create_dataset_import_job(DatasetImportJobName=datasetImportJobName,\n",
    "                                                          DatasetArn=target_second_datasetArn,\n",
    "                                                          DataSource= {\n",
    "                                                              \"S3Config\" : {\n",
    "                                                                 \"Path\":target_s3DataPath,\n",
    "                                                                 \"RoleArn\": role_arn\n",
    "                                                              } \n",
    "                                                          },\n",
    "                                                          TimestampFormat=TIMESTAMP_FORMAT\n",
    "                                                         )"
   ]
  },
  {
   "cell_type": "code",
   "execution_count": 21,
   "metadata": {},
   "outputs": [
    {
     "name": "stdout",
     "output_type": "stream",
     "text": [
      "arn:aws:forecast:ap-northeast-2:057716757052:dataset-import-job/WalmartKaggleWithThreeDatasetsDS_Target91891/DSIMPORT_JOB_TARGET_WALMART91891\n"
     ]
    }
   ],
   "source": [
    "ds_target_second_import_job_arn=ds_import_job_response['DatasetImportJobArn']\n",
    "print(ds_target_second_import_job_arn)"
   ]
  },
  {
   "cell_type": "code",
   "execution_count": 22,
   "metadata": {},
   "outputs": [],
   "source": [
    "# Related Import Job\n",
    "datasetImportJobName = 'DSIMPORT_JOB_RELATED_WALMART' + related_suffix + suffix\n",
    "ds_import_job_response=forecast.create_dataset_import_job(DatasetImportJobName=datasetImportJobName,\n",
    "                                                          DatasetArn=related_datasetArn,\n",
    "                                                          DataSource= {\n",
    "                                                              \"S3Config\" : {\n",
    "                                                                 \"Path\":related_s3DataPath,\n",
    "                                                                 \"RoleArn\": role_arn\n",
    "                                                              } \n",
    "                                                          },\n",
    "                                                          TimestampFormat=TIMESTAMP_FORMAT\n",
    "                                                         )"
   ]
  },
  {
   "cell_type": "code",
   "execution_count": 23,
   "metadata": {},
   "outputs": [
    {
     "name": "stdout",
     "output_type": "stream",
     "text": [
      "arn:aws:forecast:ap-northeast-2:057716757052:dataset-import-job/WalmartKaggleWithThreeDatasetsDS_Related91891/DSIMPORT_JOB_RELATED_WALMART_Related91891\n"
     ]
    }
   ],
   "source": [
    "ds_related_import_job_arn=ds_import_job_response['DatasetImportJobArn']\n",
    "print(ds_related_import_job_arn)"
   ]
  },
  {
   "cell_type": "code",
   "execution_count": 24,
   "metadata": {},
   "outputs": [],
   "source": [
    "# Finally we can call import the dataset\n",
    "datasetImportJobName = 'DSIMPORT_JOB_RELATED_WALMART' + related_suffix + suffix\n",
    "ds_import_job_response=forecast.create_dataset_import_job(DatasetImportJobName=datasetImportJobName,\n",
    "                                                          DatasetArn=item_meta_datasetArn,\n",
    "                                                          DataSource= {\n",
    "                                                              \"S3Config\" : {\n",
    "                                                                 \"Path\":item_meta_s3DataPath,\n",
    "                                                                 \"RoleArn\": role_arn\n",
    "                                                              } \n",
    "                                                          },\n",
    "                                                          TimestampFormat=TIMESTAMP_FORMAT\n",
    "                                                         )"
   ]
  },
  {
   "cell_type": "code",
   "execution_count": 25,
   "metadata": {},
   "outputs": [
    {
     "name": "stdout",
     "output_type": "stream",
     "text": [
      "arn:aws:forecast:ap-northeast-2:057716757052:dataset-import-job/WalmartKaggleWithThreeDatasetsDS_ItemMeta91891/DSIMPORT_JOB_RELATED_WALMART_Related91891\n"
     ]
    }
   ],
   "source": [
    "ds_itme_meta_import_job_arn=ds_import_job_response['DatasetImportJobArn']\n",
    "print(ds_itme_meta_import_job_arn)"
   ]
  },
  {
   "cell_type": "code",
   "execution_count": 26,
   "metadata": {},
   "outputs": [
    {
     "name": "stdout",
     "output_type": "stream",
     "text": [
      "Target:  CREATE_PENDING\n",
      "Related:  CREATE_PENDING\n",
      "Item Metadata:  CREATE_PENDING\n",
      "Target:  CREATE_IN_PROGRESS\n",
      "Related:  CREATE_IN_PROGRESS\n",
      "Item Metadata:  CREATE_IN_PROGRESS\n",
      "Target:  CREATE_IN_PROGRESS\n",
      "Related:  CREATE_IN_PROGRESS\n",
      "Item Metadata:  CREATE_IN_PROGRESS\n",
      "Target:  CREATE_IN_PROGRESS\n",
      "Related:  CREATE_IN_PROGRESS\n",
      "Item Metadata:  CREATE_IN_PROGRESS\n",
      "Target:  CREATE_IN_PROGRESS\n",
      "Related:  CREATE_IN_PROGRESS\n",
      "Item Metadata:  CREATE_IN_PROGRESS\n",
      "Target:  CREATE_IN_PROGRESS\n",
      "Related:  CREATE_IN_PROGRESS\n",
      "Item Metadata:  CREATE_IN_PROGRESS\n",
      "Target:  CREATE_IN_PROGRESS\n",
      "Related:  CREATE_IN_PROGRESS\n",
      "Item Metadata:  CREATE_IN_PROGRESS\n",
      "Target:  CREATE_IN_PROGRESS\n",
      "Related:  CREATE_IN_PROGRESS\n",
      "Item Metadata:  CREATE_IN_PROGRESS\n",
      "Target:  CREATE_IN_PROGRESS\n",
      "Related:  CREATE_IN_PROGRESS\n",
      "Item Metadata:  CREATE_IN_PROGRESS\n",
      "Target:  CREATE_IN_PROGRESS\n",
      "Related:  CREATE_IN_PROGRESS\n",
      "Item Metadata:  CREATE_IN_PROGRESS\n",
      "Target:  CREATE_IN_PROGRESS\n",
      "Related:  CREATE_IN_PROGRESS\n",
      "Item Metadata:  CREATE_IN_PROGRESS\n",
      "Target:  CREATE_IN_PROGRESS\n",
      "Related:  CREATE_IN_PROGRESS\n",
      "Item Metadata:  CREATE_IN_PROGRESS\n",
      "Target:  CREATE_IN_PROGRESS\n",
      "Related:  CREATE_IN_PROGRESS\n",
      "Item Metadata:  CREATE_IN_PROGRESS\n",
      "Target:  CREATE_IN_PROGRESS\n",
      "Related:  CREATE_IN_PROGRESS\n",
      "Item Metadata:  CREATE_IN_PROGRESS\n",
      "Target:  CREATE_IN_PROGRESS\n",
      "Related:  CREATE_IN_PROGRESS\n",
      "Item Metadata:  CREATE_IN_PROGRESS\n",
      "Target:  ACTIVE\n",
      "Related:  ACTIVE\n",
      "Item Metadata:  ACTIVE\n",
      "CPU times: user 124 ms, sys: 7.82 ms, total: 132 ms\n",
      "Wall time: 7min 31s\n"
     ]
    }
   ],
   "source": [
    "%%time\n",
    "\n",
    "while True:\n",
    "    dataTargetImportStatus = forecast.describe_dataset_import_job(DatasetImportJobArn=ds_target_second_import_job_arn)['Status']\n",
    "    print(\"Target: \", dataTargetImportStatus)\n",
    "    dataRelatedImportStatus = forecast.describe_dataset_import_job(DatasetImportJobArn=ds_related_import_job_arn)['Status']\n",
    "    print(\"Related: \", dataRelatedImportStatus)\n",
    "    dataItemMetaImportStatus = forecast.describe_dataset_import_job(DatasetImportJobArn=ds_related_import_job_arn)['Status']\n",
    "    print(\"Item Metadata: \", dataItemMetaImportStatus)    \n",
    "    if dataTargetImportStatus != 'ACTIVE' and dataTargetImportStatus != 'CREATE_FAILED':\n",
    "        sleep(30)\n",
    "    elif dataRelatedImportStatus != 'ACTIVE' and dataRelatedImportStatus != 'CREATE_FAILED':\n",
    "        sleep(30)\n",
    "    elif dataItemMetaImportStatus != 'ACTIVE' and dataItemMetaImportStatus != 'CREATE_FAILED':\n",
    "        sleep(30)    \n",
    "    else:\n",
    "        break"
   ]
  },
  {
   "cell_type": "code",
   "execution_count": 27,
   "metadata": {},
   "outputs": [
    {
     "name": "stdout",
     "output_type": "stream",
     "text": [
      "Stored 'project' (str)\n",
      "Stored 'region' (str)\n",
      "Stored 'bucket_name' (str)\n",
      "Stored 'bucket_folder' (str)\n",
      "Stored 'role_arn' (str)\n",
      "Stored 'role_name' (str)\n",
      "Stored 'suffix' (str)\n",
      "Stored 'target_suffix' (str)\n",
      "Stored 'item_meta_suffix' (str)\n",
      "Stored 'related_suffix' (str)\n",
      "Stored 'item_meta_datasetGroupArn' (str)\n",
      "Stored 'target_second_datasetArn' (str)\n",
      "Stored 'related_datasetArn' (str)\n",
      "Stored 'item_meta_datasetArn' (str)\n",
      "Stored 'ds_target_second_import_job_arn' (str)\n",
      "Stored 'ds_related_import_job_arn' (str)\n",
      "Stored 'ds_itme_meta_import_job_arn' (str)\n"
     ]
    }
   ],
   "source": [
    "%store project\n",
    "%store region\n",
    "%store bucket_name\n",
    "%store bucket_folder\n",
    "%store role_arn\n",
    "%store role_name\n",
    "%store suffix\n",
    "%store target_suffix\n",
    "%store item_meta_suffix\n",
    "%store related_suffix\n",
    "\n",
    "%store item_meta_datasetGroupArn\n",
    "%store target_second_datasetArn\n",
    "%store related_datasetArn\n",
    "%store item_meta_datasetArn\n",
    "%store ds_target_second_import_job_arn\n",
    "%store ds_related_import_job_arn\n",
    "%store ds_itme_meta_import_job_arn\n",
    "\n",
    "\n"
   ]
  },
  {
   "cell_type": "code",
   "execution_count": null,
   "metadata": {},
   "outputs": [],
   "source": []
  },
  {
   "cell_type": "code",
   "execution_count": null,
   "metadata": {},
   "outputs": [],
   "source": []
  },
  {
   "cell_type": "code",
   "execution_count": null,
   "metadata": {},
   "outputs": [],
   "source": []
  },
  {
   "cell_type": "code",
   "execution_count": null,
   "metadata": {},
   "outputs": [],
   "source": []
  },
  {
   "cell_type": "code",
   "execution_count": null,
   "metadata": {},
   "outputs": [],
   "source": []
  },
  {
   "cell_type": "code",
   "execution_count": null,
   "metadata": {},
   "outputs": [],
   "source": []
  }
 ],
 "metadata": {
  "kernelspec": {
   "display_name": "conda_python3",
   "language": "python",
   "name": "conda_python3"
  },
  "language_info": {
   "codemirror_mode": {
    "name": "ipython",
    "version": 3
   },
   "file_extension": ".py",
   "mimetype": "text/x-python",
   "name": "python",
   "nbconvert_exporter": "python",
   "pygments_lexer": "ipython3",
   "version": "3.6.10"
  }
 },
 "nbformat": 4,
 "nbformat_minor": 4
}

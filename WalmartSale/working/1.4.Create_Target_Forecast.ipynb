{
 "cells": [
  {
   "cell_type": "markdown",
   "metadata": {},
   "source": [
    "# Create a Target Forecast\n",
    "* **About 40 mins may be elapsed**"
   ]
  },
  {
   "cell_type": "code",
   "execution_count": 1,
   "metadata": {},
   "outputs": [],
   "source": [
    "import boto3\n",
    "from time import sleep\n",
    "import pandas as pd\n",
    "import json\n",
    "import time\n",
    "import pprint\n",
    "import numpy as np"
   ]
  },
  {
   "cell_type": "code",
   "execution_count": 2,
   "metadata": {},
   "outputs": [],
   "source": [
    "# Recover variables stored by other notebooks\n",
    "%store -r"
   ]
  },
  {
   "cell_type": "code",
   "execution_count": 3,
   "metadata": {},
   "outputs": [],
   "source": [
    "session = boto3.Session(region_name=region)\n",
    "forecast = session.client(service_name='forecast')"
   ]
  },
  {
   "cell_type": "markdown",
   "metadata": {},
   "source": [
    "## Create Prophet and DeepAR+ Campaign"
   ]
  },
  {
   "cell_type": "code",
   "execution_count": 4,
   "metadata": {},
   "outputs": [],
   "source": [
    "# Prophet\n",
    "prophet_forecastName = project+'_prophet_algo_forecast' + target_suffix + suffix\n",
    "prophet_create_forecast_response=forecast.create_forecast(\n",
    "    ForecastName=prophet_forecastName,\n",
    "    PredictorArn=target_prophet_predictorArn)\n",
    "target_prophet_forecast_arn = prophet_create_forecast_response['ForecastArn']"
   ]
  },
  {
   "cell_type": "code",
   "execution_count": 5,
   "metadata": {},
   "outputs": [
    {
     "data": {
      "text/plain": [
       "{'ForecastArn': 'arn:aws:forecast:us-east-2:057716757052:forecast/WalmartKaggle_prophet_algo_forecast_target35988',\n",
       " 'ForecastName': 'WalmartKaggle_prophet_algo_forecast_target35988',\n",
       " 'ForecastTypes': ['0.1', '0.5', '0.9'],\n",
       " 'PredictorArn': 'arn:aws:forecast:us-east-2:057716757052:predictor/WalmartKaggle_prophet_algo_1_target35988',\n",
       " 'DatasetGroupArn': 'arn:aws:forecast:us-east-2:057716757052:dataset-group/WalmartKaggleDSG35988',\n",
       " 'Status': 'CREATE_PENDING',\n",
       " 'CreationTime': datetime.datetime(2020, 4, 5, 2, 3, 53, 356000, tzinfo=tzlocal()),\n",
       " 'LastModificationTime': datetime.datetime(2020, 4, 5, 2, 3, 53, 356000, tzinfo=tzlocal()),\n",
       " 'ResponseMetadata': {'RequestId': 'ffd677fc-c17a-4fb4-baa5-c59d820b534f',\n",
       "  'HTTPStatusCode': 200,\n",
       "  'HTTPHeaders': {'content-type': 'application/x-amz-json-1.1',\n",
       "   'date': 'Sun, 05 Apr 2020 02:03:52 GMT',\n",
       "   'x-amzn-requestid': 'ffd677fc-c17a-4fb4-baa5-c59d820b534f',\n",
       "   'content-length': '517',\n",
       "   'connection': 'keep-alive'},\n",
       "  'RetryAttempts': 0}}"
      ]
     },
     "execution_count": 5,
     "metadata": {},
     "output_type": "execute_result"
    }
   ],
   "source": [
    "forecast.describe_forecast(ForecastArn = target_prophet_forecast_arn)"
   ]
  },
  {
   "cell_type": "code",
   "execution_count": 6,
   "metadata": {},
   "outputs": [],
   "source": [
    "# DeepAR+\n",
    "deeparp_forecastName = project+'_deeparp_algo_forecast' + target_suffix + suffix\n",
    "deeparp_create_forecast_response=forecast.create_forecast(\n",
    "    ForecastName=deeparp_forecastName,\n",
    "    PredictorArn=target_deepar_predictorArn)\n",
    "target_deeparp_forecast_arn = deeparp_create_forecast_response['ForecastArn']"
   ]
  },
  {
   "cell_type": "code",
   "execution_count": 7,
   "metadata": {},
   "outputs": [
    {
     "data": {
      "text/plain": [
       "{'ForecastArn': 'arn:aws:forecast:us-east-2:057716757052:forecast/WalmartKaggle_deeparp_algo_forecast_target35988',\n",
       " 'ForecastName': 'WalmartKaggle_deeparp_algo_forecast_target35988',\n",
       " 'ForecastTypes': ['0.1', '0.5', '0.9'],\n",
       " 'PredictorArn': 'arn:aws:forecast:us-east-2:057716757052:predictor/WalmartKaggle_deeparp_algo_135988',\n",
       " 'DatasetGroupArn': 'arn:aws:forecast:us-east-2:057716757052:dataset-group/WalmartKaggleDSG35988',\n",
       " 'Status': 'CREATE_PENDING',\n",
       " 'CreationTime': datetime.datetime(2020, 4, 5, 2, 3, 53, 692000, tzinfo=tzlocal()),\n",
       " 'LastModificationTime': datetime.datetime(2020, 4, 5, 2, 3, 53, 692000, tzinfo=tzlocal()),\n",
       " 'ResponseMetadata': {'RequestId': '720a8b96-3fad-46d1-b41e-faf02c86fbdd',\n",
       "  'HTTPStatusCode': 200,\n",
       "  'HTTPHeaders': {'content-type': 'application/x-amz-json-1.1',\n",
       "   'date': 'Sun, 05 Apr 2020 02:03:53 GMT',\n",
       "   'x-amzn-requestid': '720a8b96-3fad-46d1-b41e-faf02c86fbdd',\n",
       "   'content-length': '510',\n",
       "   'connection': 'keep-alive'},\n",
       "  'RetryAttempts': 0}}"
      ]
     },
     "execution_count": 7,
     "metadata": {},
     "output_type": "execute_result"
    }
   ],
   "source": [
    "forecast.describe_forecast(ForecastArn = target_deeparp_forecast_arn)"
   ]
  },
  {
   "cell_type": "code",
   "execution_count": 8,
   "metadata": {},
   "outputs": [
    {
     "name": "stdout",
     "output_type": "stream",
     "text": [
      "Prophet:  CREATE_PENDING\n",
      "DeepARP:  CREATE_PENDING\n",
      "Prophet:  CREATE_IN_PROGRESS\n",
      "DeepARP:  CREATE_IN_PROGRESS\n",
      "Prophet:  CREATE_IN_PROGRESS\n",
      "DeepARP:  CREATE_IN_PROGRESS\n",
      "Prophet:  CREATE_IN_PROGRESS\n",
      "DeepARP:  CREATE_IN_PROGRESS\n",
      "Prophet:  CREATE_IN_PROGRESS\n",
      "DeepARP:  CREATE_IN_PROGRESS\n",
      "Prophet:  CREATE_IN_PROGRESS\n",
      "DeepARP:  CREATE_IN_PROGRESS\n",
      "Prophet:  CREATE_IN_PROGRESS\n",
      "DeepARP:  CREATE_IN_PROGRESS\n",
      "Prophet:  CREATE_IN_PROGRESS\n",
      "DeepARP:  CREATE_IN_PROGRESS\n",
      "Prophet:  CREATE_IN_PROGRESS\n",
      "DeepARP:  CREATE_IN_PROGRESS\n",
      "Prophet:  CREATE_IN_PROGRESS\n",
      "DeepARP:  CREATE_IN_PROGRESS\n",
      "Prophet:  CREATE_IN_PROGRESS\n",
      "DeepARP:  CREATE_IN_PROGRESS\n",
      "Prophet:  CREATE_IN_PROGRESS\n",
      "DeepARP:  CREATE_IN_PROGRESS\n",
      "Prophet:  CREATE_IN_PROGRESS\n",
      "DeepARP:  CREATE_IN_PROGRESS\n",
      "Prophet:  CREATE_IN_PROGRESS\n",
      "DeepARP:  CREATE_IN_PROGRESS\n",
      "Prophet:  CREATE_IN_PROGRESS\n",
      "DeepARP:  CREATE_IN_PROGRESS\n",
      "Prophet:  CREATE_IN_PROGRESS\n",
      "DeepARP:  CREATE_IN_PROGRESS\n",
      "Prophet:  CREATE_IN_PROGRESS\n",
      "DeepARP:  CREATE_IN_PROGRESS\n",
      "Prophet:  CREATE_IN_PROGRESS\n",
      "DeepARP:  CREATE_IN_PROGRESS\n",
      "Prophet:  CREATE_IN_PROGRESS\n",
      "DeepARP:  CREATE_IN_PROGRESS\n",
      "Prophet:  CREATE_IN_PROGRESS\n",
      "DeepARP:  CREATE_IN_PROGRESS\n",
      "Prophet:  CREATE_IN_PROGRESS\n",
      "DeepARP:  CREATE_IN_PROGRESS\n",
      "Prophet:  CREATE_IN_PROGRESS\n",
      "DeepARP:  CREATE_IN_PROGRESS\n",
      "Prophet:  ACTIVE\n",
      "DeepARP:  ACTIVE\n",
      "Prophet:  ACTIVE\n",
      "DeepARP:  ACTIVE\n",
      "Prophet:  ACTIVE\n",
      "DeepARP:  ACTIVE\n",
      "Prophet:  ACTIVE\n",
      "DeepARP:  ACTIVE\n",
      "Prophet:  ACTIVE\n",
      "DeepARP:  ACTIVE\n",
      "Prophet:  ACTIVE\n",
      "DeepARP:  ACTIVE\n",
      "Prophet:  ACTIVE\n",
      "DeepARP:  ACTIVE\n",
      "Prophet:  ACTIVE\n",
      "DeepARP:  ACTIVE\n",
      "CPU times: user 205 ms, sys: 24.2 ms, total: 230 ms\n",
      "Wall time: 29min 4s\n"
     ]
    }
   ],
   "source": [
    "%%time\n",
    "# Check the Prophet status\n",
    "\n",
    "while True:\n",
    "    createProphetStatus = forecast.describe_forecast(ForecastArn= target_prophet_forecast_arn)['Status']\n",
    "    createDeeparpStatus = forecast.describe_forecast(ForecastArn= target_deeparp_forecast_arn)['Status']    \n",
    "    print(\"Prophet: \", createProphetStatus)\n",
    "    print(\"DeepARP: \", createProphetStatus)          \n",
    "    if createProphetStatus != 'ACTIVE' and createProphetStatus != 'CREATE_FAILED':\n",
    "        sleep(60)\n",
    "    elif createDeeparpStatus != 'ACTIVE' and createDeeparpStatus != 'CREATE_FAILED':\n",
    "        sleep(60)\n",
    "    else:\n",
    "        break"
   ]
  },
  {
   "cell_type": "markdown",
   "metadata": {},
   "source": [
    "## Upload forecast results to S3"
   ]
  },
  {
   "cell_type": "code",
   "execution_count": 9,
   "metadata": {},
   "outputs": [],
   "source": [
    "target_prophet_path = \"s3://\" + bucket_name + \"/\" + bucket_folder + \"/prophet_\" + target_suffix + suffix + \"/\" \n",
    "target_prophet_job_name = \"ProphetExport1\" + target_suffix + suffix\n",
    "create_forecast_export_job_prophet_response = forecast.create_forecast_export_job(\n",
    "    ForecastExportJobName = target_prophet_job_name,\n",
    "    ForecastArn = target_prophet_forecast_arn,\n",
    "    Destination={\n",
    "        \"S3Config\" : {\n",
    "            \"Path\": target_prophet_path,\n",
    "            \"RoleArn\": role_arn\n",
    "        }\n",
    "    })\n"
   ]
  },
  {
   "cell_type": "code",
   "execution_count": 10,
   "metadata": {},
   "outputs": [
    {
     "data": {
      "text/plain": [
       "{'ForecastExportJobArn': 'arn:aws:forecast:us-east-2:057716757052:forecast-export-job/WalmartKaggle_prophet_algo_forecast_target35988/ProphetExport1_target35988',\n",
       " 'ForecastExportJobName': 'ProphetExport1_target35988',\n",
       " 'ForecastArn': 'arn:aws:forecast:us-east-2:057716757052:forecast/WalmartKaggle_prophet_algo_forecast_target35988',\n",
       " 'Destination': {'S3Config': {'Path': 's3://sagemaker-us-east-2-057716757052/WalmartKaggle/prophet__target35988',\n",
       "   'RoleArn': 'arn:aws:iam::057716757052:role/ForecastRoleWalmart35988'}},\n",
       " 'Status': 'CREATE_PENDING',\n",
       " 'CreationTime': datetime.datetime(2020, 4, 5, 2, 32, 58, 812000, tzinfo=tzlocal()),\n",
       " 'LastModificationTime': datetime.datetime(2020, 4, 5, 2, 32, 58, 812000, tzinfo=tzlocal()),\n",
       " 'ResponseMetadata': {'RequestId': '8f997be5-8a22-4ae7-8d7b-947972d380b9',\n",
       "  'HTTPStatusCode': 200,\n",
       "  'HTTPHeaders': {'content-type': 'application/x-amz-json-1.1',\n",
       "   'date': 'Sun, 05 Apr 2020 02:32:58 GMT',\n",
       "   'x-amzn-requestid': '8f997be5-8a22-4ae7-8d7b-947972d380b9',\n",
       "   'content-length': '604',\n",
       "   'connection': 'keep-alive'},\n",
       "  'RetryAttempts': 0}}"
      ]
     },
     "execution_count": 10,
     "metadata": {},
     "output_type": "execute_result"
    }
   ],
   "source": [
    "TargetForecastProphetExportJobArn = create_forecast_export_job_prophet_response[\"ForecastExportJobArn\"]\n",
    "forecast.describe_forecast_export_job(ForecastExportJobArn = TargetForecastProphetExportJobArn)"
   ]
  },
  {
   "cell_type": "code",
   "execution_count": 11,
   "metadata": {},
   "outputs": [],
   "source": [
    "target_deeparp_path = \"s3://\" + bucket_name + \"/\" + bucket_folder + \"/deeparp_\" + target_suffix + suffix + \"/\" \n",
    "target_deeparp_job_name = \"DeepARPExport1\" + target_suffix + suffix\n",
    "create_forecast_export_job_deepar_response = forecast.create_forecast_export_job(\n",
    "    ForecastExportJobName = target_deeparp_job_name,\n",
    "    ForecastArn = target_deeparp_forecast_arn,\n",
    "    Destination={\n",
    "        \"S3Config\" : {\n",
    "            \"Path\": target_deeparp_path,\n",
    "            \"RoleArn\": role_arn\n",
    "        }\n",
    "    })"
   ]
  },
  {
   "cell_type": "code",
   "execution_count": 12,
   "metadata": {},
   "outputs": [
    {
     "data": {
      "text/plain": [
       "{'ForecastExportJobArn': 'arn:aws:forecast:us-east-2:057716757052:forecast-export-job/WalmartKaggle_deeparp_algo_forecast_target35988/DeepARPExport1_target35988',\n",
       " 'ForecastExportJobName': 'DeepARPExport1_target35988',\n",
       " 'ForecastArn': 'arn:aws:forecast:us-east-2:057716757052:forecast/WalmartKaggle_deeparp_algo_forecast_target35988',\n",
       " 'Destination': {'S3Config': {'Path': 's3://sagemaker-us-east-2-057716757052/WalmartKaggle/deeparp__target35988',\n",
       "   'RoleArn': 'arn:aws:iam::057716757052:role/ForecastRoleWalmart35988'}},\n",
       " 'Status': 'CREATE_PENDING',\n",
       " 'CreationTime': datetime.datetime(2020, 4, 5, 2, 32, 59, 41000, tzinfo=tzlocal()),\n",
       " 'LastModificationTime': datetime.datetime(2020, 4, 5, 2, 32, 59, 41000, tzinfo=tzlocal()),\n",
       " 'ResponseMetadata': {'RequestId': '65b70c92-0a3c-4547-ba4a-7e8bb3b40680',\n",
       "  'HTTPStatusCode': 200,\n",
       "  'HTTPHeaders': {'content-type': 'application/x-amz-json-1.1',\n",
       "   'date': 'Sun, 05 Apr 2020 02:32:58 GMT',\n",
       "   'x-amzn-requestid': '65b70c92-0a3c-4547-ba4a-7e8bb3b40680',\n",
       "   'content-length': '604',\n",
       "   'connection': 'keep-alive'},\n",
       "  'RetryAttempts': 0}}"
      ]
     },
     "execution_count": 12,
     "metadata": {},
     "output_type": "execute_result"
    }
   ],
   "source": [
    "TargetForecastDeeparExportJobArn = create_forecast_export_job_deepar_response[\"ForecastExportJobArn\"]\n",
    "forecast.describe_forecast_export_job(ForecastExportJobArn = TargetForecastDeeparExportJobArn)"
   ]
  },
  {
   "cell_type": "code",
   "execution_count": 13,
   "metadata": {},
   "outputs": [
    {
     "name": "stdout",
     "output_type": "stream",
     "text": [
      "Prophet:  CREATE_PENDING\n",
      "DeepARP:  CREATE_PENDING\n",
      "Prophet:  CREATE_IN_PROGRESS\n",
      "DeepARP:  CREATE_IN_PROGRESS\n",
      "Prophet:  ACTIVE\n",
      "DeepARP:  ACTIVE\n",
      "Prophet:  ACTIVE\n",
      "DeepARP:  ACTIVE\n",
      "Prophet:  ACTIVE\n",
      "DeepARP:  ACTIVE\n",
      "Prophet:  ACTIVE\n",
      "DeepARP:  ACTIVE\n",
      "CPU times: user 43.9 ms, sys: 4.39 ms, total: 48.3 ms\n",
      "Wall time: 5min\n"
     ]
    }
   ],
   "source": [
    "%%time\n",
    "# Check the Prophet status\n",
    "\n",
    "while True:\n",
    "    createProphetStatus = forecast.describe_forecast_export_job(ForecastExportJobArn= TargetForecastProphetExportJobArn)['Status']\n",
    "    createDeeparpStatus = forecast.describe_forecast_export_job(ForecastExportJobArn= TargetForecastDeeparExportJobArn)['Status']    \n",
    "    print(\"Prophet: \", createProphetStatus)\n",
    "    print(\"DeepARP: \", createProphetStatus)          \n",
    "    if createProphetStatus != 'ACTIVE' and createProphetStatus != 'CREATE_FAILED':\n",
    "        sleep(60)\n",
    "    elif createDeeparpStatus != 'ACTIVE' and createDeeparpStatus != 'CREATE_FAILED':\n",
    "        sleep(60)\n",
    "    else:\n",
    "        break"
   ]
  },
  {
   "cell_type": "code",
   "execution_count": 14,
   "metadata": {},
   "outputs": [
    {
     "name": "stdout",
     "output_type": "stream",
     "text": [
      "Stored 'target_prophet_forecast_arn' (str)\n",
      "Stored 'target_deeparp_forecast_arn' (str)\n",
      "Stored 'TargetForecastProphetExportJobArn' (str)\n",
      "Stored 'TargetForecastDeeparExportJobArn' (str)\n"
     ]
    }
   ],
   "source": [
    "%store target_prophet_forecast_arn\n",
    "%store target_deeparp_forecast_arn\n",
    "%store TargetForecastProphetExportJobArn\n",
    "%store TargetForecastDeeparExportJobArn\n",
    "\n"
   ]
  },
  {
   "cell_type": "code",
   "execution_count": null,
   "metadata": {},
   "outputs": [],
   "source": []
  },
  {
   "cell_type": "code",
   "execution_count": null,
   "metadata": {},
   "outputs": [],
   "source": []
  },
  {
   "cell_type": "code",
   "execution_count": null,
   "metadata": {},
   "outputs": [],
   "source": []
  }
 ],
 "metadata": {
  "kernelspec": {
   "display_name": "conda_python3",
   "language": "python",
   "name": "conda_python3"
  },
  "language_info": {
   "codemirror_mode": {
    "name": "ipython",
    "version": 3
   },
   "file_extension": ".py",
   "mimetype": "text/x-python",
   "name": "python",
   "nbconvert_exporter": "python",
   "pygments_lexer": "ipython3",
   "version": "3.6.10"
  }
 },
 "nbformat": 4,
 "nbformat_minor": 4
}

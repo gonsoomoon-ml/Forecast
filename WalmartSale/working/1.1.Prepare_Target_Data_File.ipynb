{
 "cells": [
  {
   "cell_type": "markdown",
   "metadata": {},
   "source": [
    "# Prepare Target data file\n",
    "* **About 3 mins may be elapsed**\n",
    "* Please refer to the 0.LookAt_RawData.ipynb if you see a process of handling a raw data file handled"
   ]
  },
  {
   "cell_type": "code",
   "execution_count": 2,
   "metadata": {},
   "outputs": [],
   "source": [
    "import boto3\n",
    "import os\n",
    "import pandas as pd\n",
    "import numpy as np"
   ]
  },
  {
   "cell_type": "markdown",
   "metadata": {},
   "source": [
    "## Create Target Time Series File and Validation File\n",
    "**IMPORTANT: Shift three days in the future because a weekly interval starts from Monday in Amazon Forecast.This dataset starts from Friday for an weekly interval**"
   ]
  },
  {
   "cell_type": "code",
   "execution_count": 11,
   "metadata": {},
   "outputs": [],
   "source": [
    "data_dir = 'data'\n",
    "train_file_name = 'train.csv'\n",
    "features_file_name = 'features.csv'\n",
    "store_file_name = 'stores.csv'\n",
    "train_data = pd.read_csv(os.path.join(data_dir,train_file_name))\n",
    "train_df = train_data.copy()\n",
    "# Shift three days in the future \n",
    "train_df.Date = pd.to_datetime(train_df['Date']) + pd.DateOffset(days=3)\n",
    "train_df = train_df.rename(columns={'Date':'date', 'Store':'item_id'})"
   ]
  },
  {
   "cell_type": "code",
   "execution_count": 12,
   "metadata": {},
   "outputs": [
    {
     "data": {
      "text/html": [
       "<div>\n",
       "<style scoped>\n",
       "    .dataframe tbody tr th:only-of-type {\n",
       "        vertical-align: middle;\n",
       "    }\n",
       "\n",
       "    .dataframe tbody tr th {\n",
       "        vertical-align: top;\n",
       "    }\n",
       "\n",
       "    .dataframe thead th {\n",
       "        text-align: right;\n",
       "    }\n",
       "</style>\n",
       "<table border=\"1\" class=\"dataframe\">\n",
       "  <thead>\n",
       "    <tr style=\"text-align: right;\">\n",
       "      <th></th>\n",
       "      <th>item_id</th>\n",
       "      <th>Weekly_Sales</th>\n",
       "    </tr>\n",
       "    <tr>\n",
       "      <th>date</th>\n",
       "      <th></th>\n",
       "      <th></th>\n",
       "    </tr>\n",
       "  </thead>\n",
       "  <tbody>\n",
       "    <tr>\n",
       "      <th>2010-02-08</th>\n",
       "      <td>1</td>\n",
       "      <td>1643690.90</td>\n",
       "    </tr>\n",
       "    <tr>\n",
       "      <th>2010-02-15</th>\n",
       "      <td>1</td>\n",
       "      <td>1641957.44</td>\n",
       "    </tr>\n",
       "    <tr>\n",
       "      <th>2010-02-22</th>\n",
       "      <td>1</td>\n",
       "      <td>1611968.17</td>\n",
       "    </tr>\n",
       "    <tr>\n",
       "      <th>2010-03-01</th>\n",
       "      <td>1</td>\n",
       "      <td>1409727.59</td>\n",
       "    </tr>\n",
       "    <tr>\n",
       "      <th>2010-03-08</th>\n",
       "      <td>1</td>\n",
       "      <td>1554806.68</td>\n",
       "    </tr>\n",
       "  </tbody>\n",
       "</table>\n",
       "</div>"
      ],
      "text/plain": [
       "            item_id  Weekly_Sales\n",
       "date                             \n",
       "2010-02-08        1    1643690.90\n",
       "2010-02-15        1    1641957.44\n",
       "2010-02-22        1    1611968.17\n",
       "2010-03-01        1    1409727.59\n",
       "2010-03-08        1    1554806.68"
      ]
     },
     "execution_count": 12,
     "metadata": {},
     "output_type": "execute_result"
    }
   ],
   "source": [
    "temp_df = train_df.groupby(['item_id','date'])['Weekly_Sales'].sum()\n",
    "# df2 = pd.DataFrame(temp_df, columns=['Store','Date','Weekly_Sales'])\n",
    "stores_sales = pd.DataFrame(temp_df)\n",
    "stores_sales.reset_index(inplace=True)\n",
    "# print(stores_sales.groupby('Store').agg({'Date': ['min','max']}))\n",
    "stores_sales = stores_sales.set_index('date')\n",
    "stores_sales.head()"
   ]
  },
  {
   "cell_type": "code",
   "execution_count": 13,
   "metadata": {},
   "outputs": [
    {
     "data": {
      "text/html": [
       "<div>\n",
       "<style scoped>\n",
       "    .dataframe tbody tr th:only-of-type {\n",
       "        vertical-align: middle;\n",
       "    }\n",
       "\n",
       "    .dataframe tbody tr th {\n",
       "        vertical-align: top;\n",
       "    }\n",
       "\n",
       "    .dataframe thead th {\n",
       "        text-align: right;\n",
       "    }\n",
       "</style>\n",
       "<table border=\"1\" class=\"dataframe\">\n",
       "  <thead>\n",
       "    <tr style=\"text-align: right;\">\n",
       "      <th></th>\n",
       "      <th>Weekly_Sales</th>\n",
       "      <th>item_id</th>\n",
       "    </tr>\n",
       "    <tr>\n",
       "      <th>date</th>\n",
       "      <th></th>\n",
       "      <th></th>\n",
       "    </tr>\n",
       "  </thead>\n",
       "  <tbody>\n",
       "    <tr>\n",
       "      <th>2010-02-08</th>\n",
       "      <td>1643690.90</td>\n",
       "      <td>1</td>\n",
       "    </tr>\n",
       "    <tr>\n",
       "      <th>2010-02-15</th>\n",
       "      <td>1641957.44</td>\n",
       "      <td>1</td>\n",
       "    </tr>\n",
       "    <tr>\n",
       "      <th>2010-02-22</th>\n",
       "      <td>1611968.17</td>\n",
       "      <td>1</td>\n",
       "    </tr>\n",
       "    <tr>\n",
       "      <th>2010-03-01</th>\n",
       "      <td>1409727.59</td>\n",
       "      <td>1</td>\n",
       "    </tr>\n",
       "    <tr>\n",
       "      <th>2010-03-08</th>\n",
       "      <td>1554806.68</td>\n",
       "      <td>1</td>\n",
       "    </tr>\n",
       "  </tbody>\n",
       "</table>\n",
       "</div>"
      ],
      "text/plain": [
       "            Weekly_Sales item_id\n",
       "date                            \n",
       "2010-02-08    1643690.90       1\n",
       "2010-02-15    1641957.44       1\n",
       "2010-02-22    1611968.17       1\n",
       "2010-03-01    1409727.59       1\n",
       "2010-03-08    1554806.68       1"
      ]
     },
     "execution_count": 13,
     "metadata": {},
     "output_type": "execute_result"
    }
   ],
   "source": [
    "\n",
    "stores_sales.item_id = stores_sales.item_id.astype(str)\n",
    "stores_sales.index = pd.to_datetime(stores_sales.index, format = '%Y-%m-%d' )\n",
    "# stores_sales.index = stores_sales.index.strftime('%Y-%m-%d %H:%M:%S')\n",
    "\n",
    "#stores_sales.index = pd.to_datetime(stores_sales.index.strftime(\"yyyy-MM-dd hh:mm:ss\"))\n",
    "cols = ['Weekly_Sales', 'item_id']\n",
    "stores_sales = stores_sales[cols]\n",
    "stores_sales.head()"
   ]
  },
  {
   "cell_type": "markdown",
   "metadata": {},
   "source": [
    "## Split into target file and validation file"
   ]
  },
  {
   "cell_type": "code",
   "execution_count": 6,
   "metadata": {},
   "outputs": [],
   "source": [
    "# end_train_date = '2011-10-03' # Non-inclusive\n",
    "# end_val_date = '2012-01-02'\n",
    "\n",
    "end_train_date = '2012-07-30' # Non-inclusive\n",
    "end_val_date = '2012-10-29'"
   ]
  },
  {
   "cell_type": "code",
   "execution_count": 7,
   "metadata": {},
   "outputs": [],
   "source": [
    "target_stores_sales = stores_sales[stores_sales.index < end_train_date]\n",
    "validation_stores_sales = stores_sales[stores_sales.index >= end_train_date]\n",
    "validation_stores_sales = stores_sales[stores_sales.index < end_val_date]\n"
   ]
  },
  {
   "cell_type": "code",
   "execution_count": 8,
   "metadata": {},
   "outputs": [],
   "source": [
    "# With the data in a great state, save it off as a CSV\n",
    "target_time_series_filename = \"target_time_series.csv\"\n",
    "target_time_series_path = data_dir + \"/\" + target_time_series_filename\n",
    "target_stores_sales.to_csv(target_time_series_path, header=False)"
   ]
  },
  {
   "cell_type": "code",
   "execution_count": 9,
   "metadata": {},
   "outputs": [],
   "source": [
    "# With the data in a great state, save it off as a CSV\n",
    "validation_time_series_filename = \"validation_time_series.csv\"\n",
    "validation_time_series_path = data_dir + \"/\" + validation_time_series_filename\n",
    "validation_stores_sales.to_csv(validation_time_series_path, header=False)"
   ]
  },
  {
   "cell_type": "code",
   "execution_count": 10,
   "metadata": {},
   "outputs": [
    {
     "name": "stdout",
     "output_type": "stream",
     "text": [
      "Stored 'target_time_series_filename' (str)\n",
      "Stored 'target_time_series_path' (str)\n",
      "Stored 'target_stores_sales' (DataFrame)\n",
      "Stored 'validation_time_series_filename' (str)\n",
      "Stored 'validation_time_series_path' (str)\n",
      "Stored 'validation_stores_sales' (DataFrame)\n"
     ]
    }
   ],
   "source": [
    "%store target_time_series_filename\n",
    "%store target_time_series_path\n",
    "%store target_stores_sales\n",
    "%store validation_time_series_filename\n",
    "%store validation_time_series_path\n",
    "%store validation_stores_sales"
   ]
  },
  {
   "cell_type": "code",
   "execution_count": null,
   "metadata": {},
   "outputs": [],
   "source": []
  },
  {
   "cell_type": "code",
   "execution_count": null,
   "metadata": {},
   "outputs": [],
   "source": []
  },
  {
   "cell_type": "code",
   "execution_count": null,
   "metadata": {},
   "outputs": [],
   "source": []
  },
  {
   "cell_type": "code",
   "execution_count": null,
   "metadata": {},
   "outputs": [],
   "source": []
  },
  {
   "cell_type": "code",
   "execution_count": null,
   "metadata": {},
   "outputs": [],
   "source": []
  }
 ],
 "metadata": {
  "kernelspec": {
   "display_name": "conda_pytorch_p36",
   "language": "python",
   "name": "conda_pytorch_p36"
  },
  "language_info": {
   "codemirror_mode": {
    "name": "ipython",
    "version": 3
   },
   "file_extension": ".py",
   "mimetype": "text/x-python",
   "name": "python",
   "nbconvert_exporter": "python",
   "pygments_lexer": "ipython3",
   "version": "3.6.10"
  }
 },
 "nbformat": 4,
 "nbformat_minor": 4
}

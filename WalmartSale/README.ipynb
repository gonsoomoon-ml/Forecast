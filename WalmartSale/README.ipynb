{
 "cells": [
  {
   "cell_type": "markdown",
   "metadata": {},
   "source": [
    "# Walmart Store Sale (월마트 상점 매출)\n",
    "\n",
    "## 실행 단계\n",
    "2.0~2.6번까지의 노트북을 실행하시면 됩니다.\n",
    "\n",
    "**옵션으로서 1.0 을 통해서 데이터에 대한 이해를 높이면 좋습니다.**\n",
    "\n",
    "- 1.0 Option-Prepare-Data-From-Scratch.ipynb\n",
    "    - 데이타 파일 만드는 과정을 Step by Step 으로 합니다.\n",
    "- 2.0.Prepare_Target_Data_File.ipynb\n",
    "    - 타겟 데이터 파일을 준비 합니다.\n",
    "- 2.1.Prepare_Related_Data_File.ipynb\n",
    "    - Related 파일을 준비 합니다.\n",
    "- 2.2.Prepare_Item_Meta_Data_File.ipynb\n",
    "    - Item-Meta 파일을 준비 합니다.\n",
    "- 2.3.Import_Target_Related_ItemMeta_Dataset.ipynb\n",
    "    - Forecast Dataset Group, Dataset, Data Import를 수행 합니다.\n",
    "- 2.4.Create_Target_Related_ItemMeta_Predictors.ipynb\n",
    "    - 프리딕터를 생성 합니다.\n",
    "- 2.5.Create_Target_Related_ItemMeta_Forecast.ipynb\n",
    "    - 포케스트를 생성 합니다.\n",
    "- 2.6.Analyze_Target_Forecast.ipynb\n",
    "    - 예측 결과를 분석 합니다.\n",
    "- 6.Cleanup.ipynb\n",
    "    - 만들어진 리소스를 정리 합니다.\n"
   ]
  },
  {
   "cell_type": "code",
   "execution_count": null,
   "metadata": {},
   "outputs": [],
   "source": []
  }
 ],
 "metadata": {
  "kernelspec": {
   "display_name": "conda_python3",
   "language": "python",
   "name": "conda_python3"
  },
  "language_info": {
   "codemirror_mode": {
    "name": "ipython",
    "version": 3
   },
   "file_extension": ".py",
   "mimetype": "text/x-python",
   "name": "python",
   "nbconvert_exporter": "python",
   "pygments_lexer": "ipython3",
   "version": "3.6.10"
  }
 },
 "nbformat": 4,
 "nbformat_minor": 4
}

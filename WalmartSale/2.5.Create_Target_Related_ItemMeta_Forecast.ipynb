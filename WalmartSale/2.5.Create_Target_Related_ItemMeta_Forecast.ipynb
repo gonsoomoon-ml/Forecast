{
 "cells": [
  {
   "cell_type": "markdown",
   "metadata": {},
   "source": [
    "# [Module 2.5] Prophet 및 DeepAR+ Forecast 생성 (Create a Forecast)\n",
    "\n",
    "이전 모듈에서 생성한 Predictor를 가지고 Prophet 및 DeepAR+ Forecast 생성을 합니다. <br>\n",
    "Foreast의 의미는 실질적으로 전체 학습을 다시하고 서비스를 할 수 있는 준비를 하는 과정 입니다. <br>\n",
    "Forecast의 생성 이후에 실제 미래의 예측(Inference)을 일괄적으로 하여 S3에 저장을 합니다.\n",
    "\n",
    "---\n",
    "이 과정은 약 40분 소요 되니다. (About 40 mins may be elapsed)"
   ]
  },
  {
   "cell_type": "code",
   "execution_count": 4,
   "metadata": {},
   "outputs": [],
   "source": [
    "import boto3\n",
    "from time import sleep\n",
    "import pandas as pd\n",
    "import json\n",
    "import time\n",
    "import pprint\n",
    "import numpy as np"
   ]
  },
  {
   "cell_type": "code",
   "execution_count": 5,
   "metadata": {},
   "outputs": [],
   "source": [
    "%store -r"
   ]
  },
  {
   "cell_type": "code",
   "execution_count": 6,
   "metadata": {},
   "outputs": [],
   "source": [
    "session = boto3.Session(region_name=region)\n",
    "forecast = session.client(service_name='forecast')"
   ]
  },
  {
   "cell_type": "markdown",
   "metadata": {},
   "source": [
    "## Create Prophet and DeepAR+ Campaign"
   ]
  },
  {
   "cell_type": "code",
   "execution_count": 5,
   "metadata": {},
   "outputs": [],
   "source": [
    "# Prophet\n",
    "item_meta_prophet_forecastName = project+'_prophet_forecast' + item_meta_suffix + suffix\n",
    "prophet_create_forecast_response=forecast.create_forecast(\n",
    "    ForecastName = item_meta_prophet_forecastName,\n",
    "    PredictorArn = item_meta_prophet_predictor_arn)\n"
   ]
  },
  {
   "cell_type": "code",
   "execution_count": 6,
   "metadata": {},
   "outputs": [
    {
     "data": {
      "text/plain": [
       "{'ForecastArn': 'arn:aws:forecast:ap-northeast-2:057716757052:forecast/WalmartKaggleWithThreeDatasets_prophet_forecast_ItemMeta91891',\n",
       " 'ForecastName': 'WalmartKaggleWithThreeDatasets_prophet_forecast_ItemMeta91891',\n",
       " 'ForecastTypes': ['0.1', '0.5', '0.9'],\n",
       " 'PredictorArn': 'arn:aws:forecast:ap-northeast-2:057716757052:predictor/WalmartKaggleWithThreeDatasets_prophet_algo_1_ItemMeta91891',\n",
       " 'DatasetGroupArn': 'arn:aws:forecast:ap-northeast-2:057716757052:dataset-group/WalmartKaggleWithThreeDatasetsDSG_ItemMeta91891',\n",
       " 'Status': 'CREATE_PENDING',\n",
       " 'CreationTime': datetime.datetime(2020, 8, 23, 8, 29, 22, 965000, tzinfo=tzlocal()),\n",
       " 'LastModificationTime': datetime.datetime(2020, 8, 23, 8, 29, 22, 965000, tzinfo=tzlocal()),\n",
       " 'ResponseMetadata': {'RequestId': '4e1ee747-3d4f-4ea6-ac3e-d0ce7a52168d',\n",
       "  'HTTPStatusCode': 200,\n",
       "  'HTTPHeaders': {'content-type': 'application/x-amz-json-1.1',\n",
       "   'date': 'Sun, 23 Aug 2020 08:29:24 GMT',\n",
       "   'x-amzn-requestid': '4e1ee747-3d4f-4ea6-ac3e-d0ce7a52168d',\n",
       "   'content-length': '605',\n",
       "   'connection': 'keep-alive'},\n",
       "  'RetryAttempts': 0}}"
      ]
     },
     "execution_count": 6,
     "metadata": {},
     "output_type": "execute_result"
    }
   ],
   "source": [
    "item_meta_prophet_forecast_arn = prophet_create_forecast_response['ForecastArn']\n",
    "forecast.describe_forecast(ForecastArn = item_meta_prophet_forecast_arn)"
   ]
  },
  {
   "cell_type": "code",
   "execution_count": 9,
   "metadata": {},
   "outputs": [],
   "source": [
    "# DeepAR+\n",
    "item_meta_deeparp_forecastName = project+'_deeparp_forecast' + item_meta_suffix + suffix\n",
    "deeparp_create_forecast_response=forecast.create_forecast(\n",
    "    ForecastName = item_meta_deeparp_forecastName,\n",
    "    PredictorArn = item_meta_deepar_predictor_arn)\n"
   ]
  },
  {
   "cell_type": "code",
   "execution_count": 10,
   "metadata": {},
   "outputs": [
    {
     "data": {
      "text/plain": [
       "{'ForecastArn': 'arn:aws:forecast:ap-northeast-2:057716757052:forecast/WalmartKaggleWithThreeDatasets_deeparp_forecast_ItemMeta91891',\n",
       " 'ForecastName': 'WalmartKaggleWithThreeDatasets_deeparp_forecast_ItemMeta91891',\n",
       " 'ForecastTypes': ['0.1', '0.5', '0.9'],\n",
       " 'PredictorArn': 'arn:aws:forecast:ap-northeast-2:057716757052:predictor/WalmartKaggleWithThreeDatasets_deeparp_algo_1_ItemMeta91891',\n",
       " 'DatasetGroupArn': 'arn:aws:forecast:ap-northeast-2:057716757052:dataset-group/WalmartKaggleWithThreeDatasetsDSG_ItemMeta91891',\n",
       " 'Status': 'CREATE_PENDING',\n",
       " 'CreationTime': datetime.datetime(2020, 8, 23, 8, 29, 41, 451000, tzinfo=tzlocal()),\n",
       " 'LastModificationTime': datetime.datetime(2020, 8, 23, 8, 29, 41, 451000, tzinfo=tzlocal()),\n",
       " 'ResponseMetadata': {'RequestId': 'c551f67a-808c-4b62-aff7-6a451958e2fb',\n",
       "  'HTTPStatusCode': 200,\n",
       "  'HTTPHeaders': {'content-type': 'application/x-amz-json-1.1',\n",
       "   'date': 'Sun, 23 Aug 2020 08:29:41 GMT',\n",
       "   'x-amzn-requestid': 'c551f67a-808c-4b62-aff7-6a451958e2fb',\n",
       "   'content-length': '605',\n",
       "   'connection': 'keep-alive'},\n",
       "  'RetryAttempts': 0}}"
      ]
     },
     "execution_count": 10,
     "metadata": {},
     "output_type": "execute_result"
    }
   ],
   "source": [
    "item_meta_deeparp_forecast_arn = deeparp_create_forecast_response['ForecastArn']\n",
    "forecast.describe_forecast(ForecastArn = item_meta_deeparp_forecast_arn)"
   ]
  },
  {
   "cell_type": "code",
   "execution_count": 11,
   "metadata": {},
   "outputs": [
    {
     "name": "stdout",
     "output_type": "stream",
     "text": [
      "Prophet:  CREATE_IN_PROGRESS\n",
      "DeepARP:  CREATE_IN_PROGRESS\n",
      "Prophet:  CREATE_IN_PROGRESS\n",
      "DeepARP:  CREATE_IN_PROGRESS\n",
      "Prophet:  CREATE_IN_PROGRESS\n",
      "DeepARP:  CREATE_IN_PROGRESS\n",
      "Prophet:  CREATE_IN_PROGRESS\n",
      "DeepARP:  CREATE_IN_PROGRESS\n",
      "Prophet:  CREATE_IN_PROGRESS\n",
      "DeepARP:  CREATE_IN_PROGRESS\n",
      "Prophet:  CREATE_IN_PROGRESS\n",
      "DeepARP:  CREATE_IN_PROGRESS\n",
      "Prophet:  CREATE_IN_PROGRESS\n",
      "DeepARP:  CREATE_IN_PROGRESS\n",
      "Prophet:  CREATE_IN_PROGRESS\n",
      "DeepARP:  CREATE_IN_PROGRESS\n",
      "Prophet:  CREATE_IN_PROGRESS\n",
      "DeepARP:  CREATE_IN_PROGRESS\n",
      "Prophet:  CREATE_IN_PROGRESS\n",
      "DeepARP:  CREATE_IN_PROGRESS\n",
      "Prophet:  CREATE_IN_PROGRESS\n",
      "DeepARP:  CREATE_IN_PROGRESS\n",
      "Prophet:  CREATE_IN_PROGRESS\n",
      "DeepARP:  CREATE_IN_PROGRESS\n",
      "Prophet:  CREATE_IN_PROGRESS\n",
      "DeepARP:  CREATE_IN_PROGRESS\n",
      "Prophet:  CREATE_IN_PROGRESS\n",
      "DeepARP:  CREATE_IN_PROGRESS\n",
      "Prophet:  CREATE_IN_PROGRESS\n",
      "DeepARP:  CREATE_IN_PROGRESS\n",
      "Prophet:  CREATE_IN_PROGRESS\n",
      "DeepARP:  CREATE_IN_PROGRESS\n",
      "Prophet:  CREATE_IN_PROGRESS\n",
      "DeepARP:  CREATE_IN_PROGRESS\n",
      "Prophet:  CREATE_IN_PROGRESS\n",
      "DeepARP:  CREATE_IN_PROGRESS\n",
      "Prophet:  ACTIVE\n",
      "DeepARP:  ACTIVE\n",
      "Prophet:  ACTIVE\n",
      "DeepARP:  ACTIVE\n",
      "Prophet:  ACTIVE\n",
      "DeepARP:  ACTIVE\n",
      "Prophet:  ACTIVE\n",
      "DeepARP:  ACTIVE\n",
      "Prophet:  ACTIVE\n",
      "DeepARP:  ACTIVE\n",
      "Prophet:  ACTIVE\n",
      "DeepARP:  ACTIVE\n",
      "Prophet:  ACTIVE\n",
      "DeepARP:  ACTIVE\n",
      "Prophet:  ACTIVE\n",
      "DeepARP:  ACTIVE\n",
      "Prophet:  ACTIVE\n",
      "DeepARP:  ACTIVE\n",
      "Prophet:  ACTIVE\n",
      "DeepARP:  ACTIVE\n",
      "Prophet:  ACTIVE\n",
      "DeepARP:  ACTIVE\n",
      "Prophet:  ACTIVE\n",
      "DeepARP:  ACTIVE\n",
      "Prophet:  ACTIVE\n",
      "DeepARP:  ACTIVE\n",
      "Prophet:  ACTIVE\n",
      "DeepARP:  ACTIVE\n",
      "Prophet:  ACTIVE\n",
      "DeepARP:  ACTIVE\n",
      "Prophet:  ACTIVE\n",
      "DeepARP:  ACTIVE\n",
      "Prophet:  ACTIVE\n",
      "DeepARP:  ACTIVE\n",
      "CPU times: user 249 ms, sys: 14.4 ms, total: 263 ms\n",
      "Wall time: 34min 6s\n"
     ]
    }
   ],
   "source": [
    "%%time\n",
    "# Check the Prophet status\n",
    "\n",
    "while True:\n",
    "    createProphetStatus = forecast.describe_forecast(ForecastArn= item_meta_prophet_forecast_arn)['Status']\n",
    "    createDeeparpStatus = forecast.describe_forecast(ForecastArn= item_meta_deeparp_forecast_arn)['Status']    \n",
    "    print(\"Prophet: \", createProphetStatus)\n",
    "    print(\"DeepARP: \", createProphetStatus)          \n",
    "    if createProphetStatus != 'ACTIVE' and createProphetStatus != 'CREATE_FAILED':\n",
    "        sleep(60)\n",
    "    elif createDeeparpStatus != 'ACTIVE' and createDeeparpStatus != 'CREATE_FAILED':\n",
    "        sleep(60)\n",
    "    else:\n",
    "        break"
   ]
  },
  {
   "cell_type": "markdown",
   "metadata": {},
   "source": [
    "## Upload forecast results to S3"
   ]
  },
  {
   "cell_type": "markdown",
   "metadata": {},
   "source": [
    "위의 과정이 세션이 끊기어서 forecast arn을 가져오지 못할 경우에는 Forecast 콘솔에 가서 Forecast arn을 복사하여 아래에 넣고 주석 제거 후 실행 하세요"
   ]
  },
  {
   "cell_type": "code",
   "execution_count": 1,
   "metadata": {},
   "outputs": [],
   "source": [
    "# item_meta_prophet_forecast_arn = 'arn:aws:forecast:ap-northeast-2:057716757052:forecast/WalmartKaggleWithThreeDatasets_prophet_forecast_ItemMeta91891'\n",
    "# item_meta_deeparp_forecast_arn = 'arn:aws:forecast:ap-northeast-2:057716757052:forecast/WalmartKaggleWithThreeDatasets_deeparp_forecast_ItemMeta91891'"
   ]
  },
  {
   "cell_type": "code",
   "execution_count": 7,
   "metadata": {},
   "outputs": [],
   "source": [
    "meta_data_prophet_path = \"s3://\" + bucket_name + \"/\" + bucket_folder + \"/prophet_\" + item_meta_suffix + suffix + \"/\" \n",
    "meta_data_prophet_job_name = \"ProphetExport1\" + item_meta_suffix + suffix\n",
    "create_forecast_export_job_prophet_response = forecast.create_forecast_export_job(\n",
    "    ForecastExportJobName = meta_data_prophet_job_name,\n",
    "    ForecastArn = item_meta_prophet_forecast_arn,\n",
    "    Destination={\n",
    "        \"S3Config\" : {\n",
    "            \"Path\": meta_data_prophet_path,\n",
    "            \"RoleArn\": role_arn\n",
    "        }\n",
    "    })\n"
   ]
  },
  {
   "cell_type": "code",
   "execution_count": 13,
   "metadata": {},
   "outputs": [
    {
     "data": {
      "text/plain": [
       "{'ForecastExportJobArn': 'arn:aws:forecast:ap-northeast-2:057716757052:forecast-export-job/WalmartKaggleWithThreeDatasets_prophet_forecast_ItemMeta91891/ProphetExport1_ItemMeta91891',\n",
       " 'ForecastExportJobName': 'ProphetExport1_ItemMeta91891',\n",
       " 'ForecastArn': 'arn:aws:forecast:ap-northeast-2:057716757052:forecast/WalmartKaggleWithThreeDatasets_prophet_forecast_ItemMeta91891',\n",
       " 'Destination': {'S3Config': {'Path': 's3://sagemaker-ap-northeast-2-057716757052/WalmartKaggleWithThreeDatasets/prophet__ItemMeta91891',\n",
       "   'RoleArn': 'arn:aws:iam::057716757052:role/ForecastRoleWalmart91891'}},\n",
       " 'Status': 'ACTIVE',\n",
       " 'CreationTime': datetime.datetime(2020, 8, 23, 10, 5, 17, 436000, tzinfo=tzlocal()),\n",
       " 'LastModificationTime': datetime.datetime(2020, 8, 23, 10, 12, 10, 462000, tzinfo=tzlocal()),\n",
       " 'ResponseMetadata': {'RequestId': 'cc80f697-2d22-4f70-8ff2-146c1954cc28',\n",
       "  'HTTPStatusCode': 200,\n",
       "  'HTTPHeaders': {'content-type': 'application/x-amz-json-1.1',\n",
       "   'date': 'Sun, 23 Aug 2020 10:13:22 GMT',\n",
       "   'x-amzn-requestid': 'cc80f697-2d22-4f70-8ff2-146c1954cc28',\n",
       "   'content-length': '662',\n",
       "   'connection': 'keep-alive'},\n",
       "  'RetryAttempts': 0}}"
      ]
     },
     "execution_count": 13,
     "metadata": {},
     "output_type": "execute_result"
    }
   ],
   "source": [
    "ItemMetaForecastProphetExportJobArn = create_forecast_export_job_prophet_response[\"ForecastExportJobArn\"]\n",
    "forecast.describe_forecast_export_job(ForecastExportJobArn = ItemMetaForecastProphetExportJobArn)"
   ]
  },
  {
   "cell_type": "code",
   "execution_count": 9,
   "metadata": {},
   "outputs": [],
   "source": [
    "item_meta_deeparp_path = \"s3://\" + bucket_name + \"/\" + bucket_folder  + \"/deeparp_\" + item_meta_suffix + suffix + \"/\" \n",
    "item_meta_deeparp_job_name = \"DeepARPExport1\" + item_meta_suffix + suffix\n",
    "create_forecast_export_job_deepar_response = forecast.create_forecast_export_job(\n",
    "    ForecastExportJobName=item_meta_deeparp_job_name,\n",
    "    ForecastArn=item_meta_deeparp_forecast_arn,\n",
    "    Destination={\n",
    "        \"S3Config\" : {\n",
    "            \"Path\": item_meta_deeparp_path,\n",
    "            \"RoleArn\": role_arn\n",
    "        }\n",
    "    })"
   ]
  },
  {
   "cell_type": "code",
   "execution_count": 10,
   "metadata": {},
   "outputs": [
    {
     "data": {
      "text/plain": [
       "{'ForecastExportJobArn': 'arn:aws:forecast:ap-northeast-2:057716757052:forecast-export-job/WalmartKaggleWithThreeDatasets_deeparp_forecast_ItemMeta91891/DeepARPExport1_ItemMeta91891',\n",
       " 'ForecastExportJobName': 'DeepARPExport1_ItemMeta91891',\n",
       " 'ForecastArn': 'arn:aws:forecast:ap-northeast-2:057716757052:forecast/WalmartKaggleWithThreeDatasets_deeparp_forecast_ItemMeta91891',\n",
       " 'Destination': {'S3Config': {'Path': 's3://sagemaker-ap-northeast-2-057716757052/WalmartKaggleWithThreeDatasets/deeparp__ItemMeta91891',\n",
       "   'RoleArn': 'arn:aws:iam::057716757052:role/ForecastRoleWalmart91891'}},\n",
       " 'Status': 'CREATE_PENDING',\n",
       " 'CreationTime': datetime.datetime(2020, 8, 23, 10, 5, 19, 852000, tzinfo=tzlocal()),\n",
       " 'LastModificationTime': datetime.datetime(2020, 8, 23, 10, 5, 19, 852000, tzinfo=tzlocal()),\n",
       " 'ResponseMetadata': {'RequestId': 'ae92f9bd-04e3-4428-9566-b7c1c8e6af71',\n",
       "  'HTTPStatusCode': 200,\n",
       "  'HTTPHeaders': {'content-type': 'application/x-amz-json-1.1',\n",
       "   'date': 'Sun, 23 Aug 2020 10:05:20 GMT',\n",
       "   'x-amzn-requestid': 'ae92f9bd-04e3-4428-9566-b7c1c8e6af71',\n",
       "   'content-length': '670',\n",
       "   'connection': 'keep-alive'},\n",
       "  'RetryAttempts': 0}}"
      ]
     },
     "execution_count": 10,
     "metadata": {},
     "output_type": "execute_result"
    }
   ],
   "source": [
    "ItemMetaForecastDeeparExportJobArn = create_forecast_export_job_deepar_response[\"ForecastExportJobArn\"]\n",
    "forecast.describe_forecast_export_job(ForecastExportJobArn = ItemMetaForecastDeeparExportJobArn)"
   ]
  },
  {
   "cell_type": "code",
   "execution_count": 11,
   "metadata": {},
   "outputs": [
    {
     "name": "stdout",
     "output_type": "stream",
     "text": [
      "Prophet:  CREATE_PENDING\n",
      "DeepARP:  CREATE_PENDING\n",
      "Prophet:  CREATE_IN_PROGRESS\n",
      "DeepARP:  CREATE_IN_PROGRESS\n",
      "Prophet:  CREATE_IN_PROGRESS\n",
      "DeepARP:  CREATE_IN_PROGRESS\n",
      "Prophet:  CREATE_IN_PROGRESS\n",
      "DeepARP:  CREATE_IN_PROGRESS\n",
      "Prophet:  CREATE_IN_PROGRESS\n",
      "DeepARP:  CREATE_IN_PROGRESS\n",
      "Prophet:  CREATE_IN_PROGRESS\n",
      "DeepARP:  CREATE_IN_PROGRESS\n",
      "Prophet:  CREATE_IN_PROGRESS\n",
      "DeepARP:  CREATE_IN_PROGRESS\n",
      "Prophet:  ACTIVE\n",
      "DeepARP:  ACTIVE\n",
      "Prophet:  ACTIVE\n",
      "DeepARP:  ACTIVE\n",
      "CPU times: user 63.9 ms, sys: 3.41 ms, total: 67.3 ms\n",
      "Wall time: 8min 1s\n"
     ]
    }
   ],
   "source": [
    "%%time\n",
    "# Check the Prophet status\n",
    "\n",
    "while True:\n",
    "    createProphetStatus = forecast.describe_forecast_export_job(ForecastExportJobArn= ItemMetaForecastProphetExportJobArn)['Status']\n",
    "    createDeeparpStatus = forecast.describe_forecast_export_job(ForecastExportJobArn= ItemMetaForecastDeeparExportJobArn)['Status']    \n",
    "    print(\"Prophet: \", createProphetStatus)\n",
    "    print(\"DeepARP: \", createProphetStatus)          \n",
    "    if createProphetStatus != 'ACTIVE' and createProphetStatus != 'CREATE_FAILED':\n",
    "        sleep(60)\n",
    "    elif createDeeparpStatus != 'ACTIVE' and createDeeparpStatus != 'CREATE_FAILED':\n",
    "        sleep(60)\n",
    "    else:\n",
    "        break"
   ]
  },
  {
   "cell_type": "code",
   "execution_count": 12,
   "metadata": {},
   "outputs": [
    {
     "name": "stdout",
     "output_type": "stream",
     "text": [
      "Stored 'item_meta_prophet_forecast_arn' (str)\n",
      "Stored 'item_meta_deeparp_forecast_arn' (str)\n",
      "Stored 'ItemMetaForecastProphetExportJobArn' (str)\n",
      "Stored 'ItemMetaForecastDeeparExportJobArn' (str)\n"
     ]
    }
   ],
   "source": [
    "%store item_meta_prophet_forecast_arn\n",
    "%store item_meta_deeparp_forecast_arn\n",
    "%store ItemMetaForecastProphetExportJobArn\n",
    "%store ItemMetaForecastDeeparExportJobArn\n",
    "\n"
   ]
  },
  {
   "cell_type": "code",
   "execution_count": null,
   "metadata": {},
   "outputs": [],
   "source": []
  }
 ],
 "metadata": {
  "kernelspec": {
   "display_name": "conda_python3",
   "language": "python",
   "name": "conda_python3"
  },
  "language_info": {
   "codemirror_mode": {
    "name": "ipython",
    "version": 3
   },
   "file_extension": ".py",
   "mimetype": "text/x-python",
   "name": "python",
   "nbconvert_exporter": "python",
   "pygments_lexer": "ipython3",
   "version": "3.6.10"
  }
 },
 "nbformat": 4,
 "nbformat_minor": 4
}

{
 "cells": [
  {
   "cell_type": "markdown",
   "metadata": {},
   "source": [
    "# Forecasting Traffic Volume (고속도로 교통량 예측)\n",
    "이 소스는 https://github.com/chrisking/ForecastPOC.git 를 원본으로 하고 있습니다.\n",
    "\n",
    "- 미국 미네라폴리스 근처 고속도로의 차량 통행량을 시간별로 예측하는 문제를 풀어가는 과정을 아래 4개의 노트북으로 구성 함.\n",
    "- 이 사례에 대한 분석 보고서는 아래 PDF를 참고 하세요.\n",
    "    - [Forecasting_Traffic_Volume_Model_Analysis](20200313_Forecasting_Traffic_Volume_Model_Analysis_Gonsoo.pdf)\n",
    "\n",
    "## 실행 단계\n",
    "1.0~4.0번까지의 노트북을 실행하시면 됩니다.\n",
    "\n",
    "**옵션으로서 1.0 을 통해서 데이터에 대한 이해를 높이면 좋습니다.**\n",
    "\n",
    "- 1.0 Validating_and_Importing_Target_Time_Series_Data\n",
    "    - Target Data 를 만들고 data import 합니다. \n",
    "- 2.0.Creating_and_Evaluating_Predictors.ipynb\n",
    "    - Predictor, Forecast를 생성하고 평가 합니다.\n",
    "- 3.0.Validating_and_Importing_Related_Time_Series_Data.ipynb\n",
    "    - Target, Related 데이타 셋을 준비하고 Data Import 합니다.\n",
    "- 4.0.Creating_and_Evaluating_Related_Time_Predictors.ipynb\n",
    "    - Predictor, Forecast를 생성하고 평가 합니다.\n",
    "\n",
    "위의 노트북은 아래와 같은 기술적 부분을 가지고 있습니다.\n",
    "\n",
    "* Compare Target Data vs. Target + Related Data\n",
    "    * Compare ARIMA, Prophet and DeepARP performance with Acutal value\n",
    "\n"
   ]
  },
  {
   "cell_type": "code",
   "execution_count": null,
   "metadata": {},
   "outputs": [],
   "source": []
  }
 ],
 "metadata": {
  "kernelspec": {
   "display_name": "conda_python3",
   "language": "python",
   "name": "conda_python3"
  },
  "language_info": {
   "codemirror_mode": {
    "name": "ipython",
    "version": 3
   },
   "file_extension": ".py",
   "mimetype": "text/x-python",
   "name": "python",
   "nbconvert_exporter": "python",
   "pygments_lexer": "ipython3",
   "version": "3.6.10"
  }
 },
 "nbformat": 4,
 "nbformat_minor": 4
}

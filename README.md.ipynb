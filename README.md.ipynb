{
 "cells": [
  {
   "cell_type": "markdown",
   "metadata": {},
   "source": [
    "# 핸즈온 사전 단계\n",
    "\n",
    "- 이벤트 엔진, Cloud Formation 이용: \n",
    "    - [핸즈온 준비 필수 단게: Prerequisite](0.0.Prerequisite/CF-Prerequisite.md)\n",
    "- 이벤트 엔진, 수동 설정: \n",
    "    - [여기](0.0.Prerequisite/Prerequisite.md) 를 클릭해서 해주세요.\n",
    "- SageMaker notebook instance 를 이미 가지고 있는 경우\n",
    "    - SageMaker notebook instance를 실행하는 Role이 아래 4개의 권한을 꼭 가지고 있어야 합니다. 아래 권한을 추가 해주세요. 참고로 위의 수동 설정에는 아래 4가지 권한을 추가하는 과정이 있습니다. 참고 하세요. (AmazonSageMakerFullAccess, AmazonS3FullAccess, AmazonForecastFullAccess, IAMFullAccess)\n",
    "\n",
    "# Amazon Forecast 3가지 사례\n",
    "\n",
    "### 1. Store Item Demand (가장 처음 진행시 먼저 진행 권장)\n",
    "\n",
    "- Retail에서 item, store, # of sales 의 기본 세가지를 가지고 10개의 상점, 50개의 아이템 종류를 가지고 \"일별\" 로 판매 개수를 예측 하는 사례 입니다.\n",
    "- Target Time Series 하나만을 가지고 예측 합니다. \n",
    "- 사용 알고리즘: DeepARP, Prophet, CNN-QR\n",
    "- Data Source:\n",
    "    - https://www.kaggle.com/c/demand-forecasting-kernels-only/overview  \n",
    "    - **여기 누르시면 바로 갑니다. [바로 가기](StoreItemDemand/README.md)**    \n",
    "\n",
    "\n",
    "### 2. Traffic Volume 예측\n",
    "- 미국 미네라폴리스 근처 고속도로의 차량 통행량을 시간별로 예측하는 문제를 풀어가는 과정입니다.\n",
    "- 여기 누르시면 바로 갑니다. [바로가기](TrafficVolume/README.md)\n",
    "- [예측분석보고서] 를 확인하시면 (TrafficVolume/20200313_Forecasting_Traffic_Volume_Model_Analysis_Gonsoo.pdf)    \n",
    "\n",
    "\n",
    "### 3. Walmart Store Sales\n",
    "- 월마트 49개의 Store의 주별 매출액을 예측하는 문제 임.\n",
    "- 실제 예측에 대한 내용 보다는 Target, Related, Item-Meta Dataset의 사용에 대한 코드 예제를 확인 하는 것이 유용 함.\n",
    "- Data Source: \n",
    "    - https://www.kaggle.com/c/walmart-recruiting-store-sales-forecasting\n",
    "- **여기 누르시면 바로 갑니다. [바로 가기](WalmartSale/README.md)**    \n",
    "    \n",
    "    \n",
    "    \n",
    "\n",
    "    \n",
    "    "
   ]
  },
  {
   "cell_type": "code",
   "execution_count": null,
   "metadata": {},
   "outputs": [],
   "source": []
  }
 ],
 "metadata": {
  "kernelspec": {
   "display_name": "conda_python3",
   "language": "python",
   "name": "conda_python3"
  },
  "language_info": {
   "codemirror_mode": {
    "name": "ipython",
    "version": 3
   },
   "file_extension": ".py",
   "mimetype": "text/x-python",
   "name": "python",
   "nbconvert_exporter": "python",
   "pygments_lexer": "ipython3",
   "version": "3.6.10"
  }
 },
 "nbformat": 4,
 "nbformat_minor": 4
}
